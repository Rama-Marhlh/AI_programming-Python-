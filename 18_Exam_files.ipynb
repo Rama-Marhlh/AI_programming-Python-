{
 "cells": [
  {
   "cell_type": "markdown",
   "id": "9e83d6c1",
   "metadata": {},
   "source": [
    "You have an assignment that is due today. You have already done your assignment and \n",
    "stored it the file named (PythonAssignment.txt) but you forgot to write your name at the \n",
    "end of the file. To solve this problem, build a function SignHW() that reads the file and \n",
    "write your name at the end of the file. [5M]"
   ]
  },
  {
   "cell_type": "code",
   "execution_count": 4,
   "id": "b1321834",
   "metadata": {},
   "outputs": [],
   "source": [
    "def SignHW():\n",
    "    with open(\"PythonAssignment.txt\",\"a\") as file:\n",
    "        file.write(\"\\n\")\n",
    "        file.write(\"rama\")\n",
    "SignHW()\n",
    "\n",
    "# ANTHER STYLE OF SOLUATION\n",
    "def SignHW():\n",
    "    with open(\"PythonAssignment.txt\",\"w\") as file:\n",
    "        \n",
    "    "
   ]
  },
  {
   "cell_type": "markdown",
   "id": "4fb0488f",
   "metadata": {},
   "source": [
    "Consider you are creating a program to help young children learn the alphabets (S) and \n",
    "(M). You want to help the children count the sentences that start with these letters. A \n",
    "collection of sentences is stored in the file named (sentences.txt). Read the file and write \n",
    "a python function CountLinesWithSM() that count the lines that start with upper case S \n",
    "or M and print the output as following: [5M]\n",
    "\n",
    "Number of lines starting with M: 4\n",
    "\n",
    "Number of lines starting with S: 2"
   ]
  },
  {
   "cell_type": "code",
   "execution_count": 11,
   "id": "c403ce52",
   "metadata": {},
   "outputs": [
    {
     "name": "stdout",
     "output_type": "stream",
     "text": [
      "Number of lines starting with M: 4\n",
      "Number of lines starting with S: 2\n"
     ]
    }
   ],
   "source": [
    "def CountLinesWithSM():\n",
    "    with open(\"sentences.txt\") as file:\n",
    "        countS=0\n",
    "        countM=0\n",
    "        for line in file:\n",
    "            if line[0]==\"S\":\n",
    "                countS+=1\n",
    "            elif line[0]==\"M\":\n",
    "                countM+=1\n",
    "        print(\"Number of lines starting with M:\",countM)\n",
    "        print(\"Number of lines starting with S:\",countS)\n",
    "        \n",
    "CountLinesWithSM()        "
   ]
  },
  {
   "cell_type": "markdown",
   "id": "f5b3bd7b",
   "metadata": {},
   "source": [
    "You must read the file named (replacement.txt) and replace all the 1’s with O. You must \n",
    "do this task by building a function onetoO() that reads the file and replace each \n",
    "appearance of 1 with O and write the output in a new file named (replacedText.txt). [5M]\n"
   ]
  },
  {
   "cell_type": "code",
   "execution_count": 22,
   "id": "02684133",
   "metadata": {},
   "outputs": [
    {
     "name": "stdout",
     "output_type": "stream",
     "text": [
      "one this is the numebr which i like it\n",
      "this file we wanna to convert the number one to o \n",
      "o o o o"
     ]
    }
   ],
   "source": [
    "def onetoO():\n",
    "    with open(\"replacement.txt\",\"r\") as file:\n",
    "          data=file.read()\n",
    "        words=data.split()\n",
    "    for char in data:\n",
    "        if(char in '1'):\n",
    "            print('o',end=\"\")\n",
    "        else:\n",
    "            print(char,end=\"\") \n",
    "    with open(\"replacement.txt\",\"r\") as file,open(\"replacedText.txt\",\"w\") as ofile:\n",
    "        for line in file:\n",
    "            ofile.write(line)\n",
    "onetoO()"
   ]
  },
  {
   "cell_type": "markdown",
   "id": "1065313f",
   "metadata": {},
   "source": [
    "Based on the numbers table found in the CSV file (NumbersTable.csv) we want to replace \n",
    "all the written numbers in the file named (numbersExamples.txt) to numbers based on \n",
    "the numbers table. Write a function ReplaceTextwithNum() Replace all words in a file \n",
    "based on the content of the CSV file and print the output on the console. Hint: use \n",
    "dictionary to help [5M"
   ]
  },
  {
   "cell_type": "code",
   "execution_count": 29,
   "id": "49cb961a",
   "metadata": {},
   "outputs": [
    {
     "name": "stdout",
     "output_type": "stream",
     "text": [
      "data \n",
      "1 \n",
      "data \n",
      "2 \n",
      "data \n",
      "3 \n",
      "data \n",
      "4 \n",
      "data \n",
      "5 \n",
      "data \n",
      "6 \n",
      "data \n",
      "7 \n",
      "data \n",
      "8 \n",
      "data \n",
      "9 \n",
      "data \n",
      "10 \n"
     ]
    }
   ],
   "source": [
    "import csv\n",
    "def ReplaceTextwithNum():\n",
    "    numtable={}\n",
    "    with open('NumbersTable.csv') as csv_file:\n",
    "        csv_reader=csv.reader(csv_file)\n",
    "        for row in csv_reader:\n",
    "            numtable[row[0]]=row[1] \n",
    "        \n",
    "        with open('numbersExamples.txt') as txt_file:\n",
    "            for line in txt_file:\n",
    "                newline=''\n",
    "                for word in line.split():\n",
    "                    num=''\n",
    "                    if word.lower() in numtable.keys():\n",
    "                        num=numtable.get(word.lower())\n",
    "                        newline=newline+num+' '\n",
    "                    else:\n",
    "                        newline=newline+word+' '\n",
    "                print(newline)\n",
    "                \n",
    "ReplaceTextwithNum()"
   ]
  },
  {
   "cell_type": "markdown",
   "id": "9643e350",
   "metadata": {},
   "source": [
    "# Keep Learning , Searching And Parcticing\n",
    "### Good Luck"
   ]
  }
 ],
 "metadata": {
  "kernelspec": {
   "display_name": "Python 3",
   "language": "python",
   "name": "python3"
  },
  "language_info": {
   "codemirror_mode": {
    "name": "ipython",
    "version": 3
   },
   "file_extension": ".py",
   "mimetype": "text/x-python",
   "name": "python",
   "nbconvert_exporter": "python",
   "pygments_lexer": "ipython3",
   "version": "3.8.8"
  }
 },
 "nbformat": 4,
 "nbformat_minor": 5
}
