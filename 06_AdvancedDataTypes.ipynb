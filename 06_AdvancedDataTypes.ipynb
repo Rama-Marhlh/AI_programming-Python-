{
 "cells": [
  {
   "cell_type": "code",
   "execution_count": 1,
   "id": "395d06f8",
   "metadata": {},
   "outputs": [],
   "source": [
    "# القائمة List \n",
    "# يتم التعامل معها بالأقواس  [ ]\n",
    "# تشمل أنواع مختلفة من البيانات , ويمكن تعديلها لاحقا\n",
    "\n",
    "# الصفوف tuple \n",
    "# يتم التعامل معها بالأقواس  ( )\n",
    "# تشمل  بيانات غير قابلة للتغيير\n",
    "\n",
    "# المجموعة Set   \n",
    "# يتم التعامل معها بالأقواس   {  }  \n",
    "# لا تقبل التكرار\n",
    "\n",
    "# القاموس  Dictionary\n",
    "# يكون شكلها {'a':1, 'b':2, 'c':3} \n",
    "# تشمل علي  دليل و مفاتيح و قيم"
   ]
  },
  {
   "cell_type": "markdown",
   "id": "2aa795f3",
   "metadata": {},
   "source": [
    "# Lists [ ]"
   ]
  },
  {
   "cell_type": "code",
   "execution_count": 8,
   "id": "f1a45e52",
   "metadata": {},
   "outputs": [
    {
     "name": "stdout",
     "output_type": "stream",
     "text": [
      "<class 'list'>\n"
     ]
    }
   ],
   "source": [
    "my_list =['hi',5,\"Ai\",5,4.5]\n",
    "print(type(my_list))"
   ]
  },
  {
   "cell_type": "code",
   "execution_count": 9,
   "id": "4024bb69",
   "metadata": {},
   "outputs": [
    {
     "data": {
      "text/plain": [
       "5"
      ]
     },
     "execution_count": 9,
     "metadata": {},
     "output_type": "execute_result"
    }
   ],
   "source": [
    "# index\n",
    "my_list[1]"
   ]
  },
  {
   "cell_type": "code",
   "execution_count": 10,
   "id": "ea28dd7c",
   "metadata": {},
   "outputs": [
    {
     "ename": "IndexError",
     "evalue": "list index out of range",
     "output_type": "error",
     "traceback": [
      "\u001b[1;31m---------------------------------------------------------------------------\u001b[0m",
      "\u001b[1;31mIndexError\u001b[0m                                Traceback (most recent call last)",
      "\u001b[1;32m<ipython-input-10-075ca585e721>\u001b[0m in \u001b[0;36m<module>\u001b[1;34m\u001b[0m\n\u001b[1;32m----> 1\u001b[1;33m \u001b[0mmy_list\u001b[0m\u001b[1;33m[\u001b[0m\u001b[1;36m5\u001b[0m\u001b[1;33m]\u001b[0m\u001b[1;33m\u001b[0m\u001b[1;33m\u001b[0m\u001b[0m\n\u001b[0m",
      "\u001b[1;31mIndexError\u001b[0m: list index out of range"
     ]
    }
   ],
   "source": [
    "my_list[5] #Error"
   ]
  },
  {
   "cell_type": "code",
   "execution_count": 13,
   "id": "f4f52bc0",
   "metadata": {},
   "outputs": [
    {
     "data": {
      "text/plain": [
       "['hi', 200, 'Ai', 5, 4.5]"
      ]
     },
     "execution_count": 13,
     "metadata": {},
     "output_type": "execute_result"
    }
   ],
   "source": [
    "my_list[1]=200\n",
    "my_list"
   ]
  },
  {
   "cell_type": "markdown",
   "id": "5ddfbebe",
   "metadata": {},
   "source": [
    "# Tuples( )"
   ]
  },
  {
   "cell_type": "markdown",
   "id": "32e3fd0c",
   "metadata": {},
   "source": [
    "In Python, a tuple is similar to List except that the objects in tuple are immutable which means we cannot change the elements of a tuple once assigned."
   ]
  },
  {
   "cell_type": "markdown",
   "id": "b50b2ef5",
   "metadata": {},
   "source": [
    "To create a tuple in Python, place all the elements in a () parenthesis, separated by commas."
   ]
  },
  {
   "cell_type": "code",
   "execution_count": 1,
   "id": "243036db",
   "metadata": {},
   "outputs": [
    {
     "name": "stdout",
     "output_type": "stream",
     "text": [
      "C :  <class 'str'>\n",
      "0 :  <class 'int'>\n",
      "0 :  <class 'int'>\n",
      "K :  <class 'str'>\n",
      "I :  <class 'str'>\n",
      "E :  <class 'str'>\n"
     ]
    }
   ],
   "source": [
    "mixed_type = ('C',0,0,'K','I','E')\n",
    "\n",
    "for i in mixed_type:\n",
    "    print(i,\": \",type(i))"
   ]
  },
  {
   "cell_type": "code",
   "execution_count": 3,
   "id": "691ebe50",
   "metadata": {},
   "outputs": [
    {
     "name": "stdout",
     "output_type": "stream",
     "text": [
      "I\n",
      "E\n"
     ]
    }
   ],
   "source": [
    "# access tuple elements\n",
    "print(mixed_type[4])\n",
    "# Negative indexes in tuples\n",
    "print(mixed_type[-1])"
   ]
  },
  {
   "cell_type": "code",
   "execution_count": 16,
   "id": "781529d8",
   "metadata": {},
   "outputs": [
    {
     "ename": "TypeError",
     "evalue": "'tuple' object does not support item assignment",
     "output_type": "error",
     "traceback": [
      "\u001b[1;31m---------------------------------------------------------------------------\u001b[0m",
      "\u001b[1;31mTypeError\u001b[0m                                 Traceback (most recent call last)",
      "\u001b[1;32m<ipython-input-16-a162df1821a9>\u001b[0m in \u001b[0;36m<module>\u001b[1;34m\u001b[0m\n\u001b[0;32m      1\u001b[0m \u001b[1;31m# Try to change 0 to 'O'\u001b[0m\u001b[1;33m\u001b[0m\u001b[1;33m\u001b[0m\u001b[1;33m\u001b[0m\u001b[0m\n\u001b[1;32m----> 2\u001b[1;33m \u001b[0mmixed_type\u001b[0m\u001b[1;33m[\u001b[0m\u001b[1;36m1\u001b[0m\u001b[1;33m]\u001b[0m \u001b[1;33m=\u001b[0m \u001b[1;34m'O'\u001b[0m\u001b[1;33m\u001b[0m\u001b[1;33m\u001b[0m\u001b[0m\n\u001b[0m",
      "\u001b[1;31mTypeError\u001b[0m: 'tuple' object does not support item assignment"
     ]
    }
   ],
   "source": [
    "# Try to change 0 to 'O'\n",
    "mixed_type[1] = 'O'  #Error"
   ]
  },
  {
   "cell_type": "code",
   "execution_count": 21,
   "id": "e1c30d46",
   "metadata": {},
   "outputs": [
    {
     "name": "stdout",
     "output_type": "stream",
     "text": [
      "<class 'tuple'>\n",
      "(1, 2, 3, 4)\n"
     ]
    }
   ],
   "source": [
    "num=1,2,3,4\n",
    "print(type(num))\n",
    "print(num)"
   ]
  },
  {
   "cell_type": "markdown",
   "id": "e668d18d",
   "metadata": {},
   "source": [
    "# Sets { }"
   ]
  },
  {
   "cell_type": "markdown",
   "id": "d6c1dd5c",
   "metadata": {},
   "source": [
    "Set is an unordered and unindexed collection of items in Python. Unordered means when we display the elements of a set, it will come out in a random order. Unindexed means, we cannot access the elements of a set using the indexes like we can do in list and tuples."
   ]
  },
  {
   "cell_type": "markdown",
   "id": "6f5401c1",
   "metadata": {},
   "source": [
    "he elements of a set are defined inside curly brackets and are separated by commas"
   ]
  },
  {
   "cell_type": "code",
   "execution_count": 23,
   "id": "5c7b1d07",
   "metadata": {},
   "outputs": [],
   "source": [
    "dataScientist = {'Python', 'R', 'SQL', 'Git', 'Tableau', 'SAS'}"
   ]
  },
  {
   "cell_type": "markdown",
   "id": "8043aae4",
   "metadata": {},
   "source": [
    "Add and Remove Values from Sets"
   ]
  },
  {
   "cell_type": "code",
   "execution_count": 25,
   "id": "f83d9ea6",
   "metadata": {},
   "outputs": [
    {
     "data": {
      "text/plain": [
       "{'Git', 'Python', 'R', 'SAS', 'SQL', 'Tableau', 'lisp'}"
      ]
     },
     "execution_count": 25,
     "metadata": {},
     "output_type": "execute_result"
    }
   ],
   "source": [
    "#In is important to note that you can only add a value\n",
    "#add(): This method adds an element to the Set.\n",
    "dataScientist.add(\"lisp\")\n",
    "dataScientist"
   ]
  },
  {
   "cell_type": "code",
   "execution_count": 26,
   "id": "5102e914",
   "metadata": {},
   "outputs": [
    {
     "data": {
      "text/plain": [
       "{'Python', 'R', 'SAS', 'SQL', 'Tableau', 'lisp'}"
      ]
     },
     "execution_count": 26,
     "metadata": {},
     "output_type": "execute_result"
    }
   ],
   "source": [
    "#remove(): This method removes a specified element from the Set\n",
    "dataScientist.remove(\"Git\")\n",
    "dataScientist"
   ]
  },
  {
   "cell_type": "code",
   "execution_count": 27,
   "id": "65eed541",
   "metadata": {},
   "outputs": [
    {
     "data": {
      "text/plain": [
       "{'Python', 'R', 'SQL', 'Tableau', 'lisp'}"
      ]
     },
     "execution_count": 27,
     "metadata": {},
     "output_type": "execute_result"
    }
   ],
   "source": [
    "#pop(): Removes and returns a random element from the set.\n",
    "dataScientist.pop()\n",
    "dataScientist"
   ]
  },
  {
   "cell_type": "code",
   "execution_count": 28,
   "id": "e50e6176",
   "metadata": {},
   "outputs": [
    {
     "data": {
      "text/plain": [
       "set()"
      ]
     },
     "execution_count": 28,
     "metadata": {},
     "output_type": "execute_result"
    }
   ],
   "source": [
    "# Remove All Values from a Set\n",
    "dataScientist.clear()\n",
    "dataScientist"
   ]
  },
  {
   "cell_type": "code",
   "execution_count": 29,
   "id": "ed98ff02",
   "metadata": {},
   "outputs": [
    {
     "data": {
      "text/plain": [
       "{1, 2, 4, 7, 8, 13, 254}"
      ]
     },
     "execution_count": 29,
     "metadata": {},
     "output_type": "execute_result"
    }
   ],
   "source": [
    "num={4,2,7,1,1,1,13,8,254}\n",
    "num   #ascending order"
   ]
  },
  {
   "cell_type": "markdown",
   "id": "97d9284a",
   "metadata": {},
   "source": [
    "# Dictionary { key : value}"
   ]
  },
  {
   "cell_type": "markdown",
   "id": "37aea7c5",
   "metadata": {},
   "source": [
    "Dictionary is a mutable data type in Python. A python dictionary is a collection of key and value pairs separated by a colon (:), enclosed in curly braces {}."
   ]
  },
  {
   "attachments": {
    "image.png": {
     "image/png": "[encoded data removed]"
    }
   },
   "cell_type": "markdown",
   "id": "d806eaf8",
   "metadata": {},
   "source": [
    "![image.png](attachment:image.png)"
   ]
  },
  {
   "cell_type": "code",
   "execution_count": 30,
   "id": "6c0839bd",
   "metadata": {},
   "outputs": [
    {
     "data": {
      "text/plain": [
       "{'a': 'alpha', 'o': 'omega', 'g': 'gamma'}"
      ]
     },
     "execution_count": 30,
     "metadata": {},
     "output_type": "execute_result"
    }
   ],
   "source": [
    "dictionary_unique = {\"a\": \"alpha\", \"o\": \"omega\", \"g\": \"gamma\"}\n",
    "dictionary_unique"
   ]
  },
  {
   "cell_type": "markdown",
   "id": "4da098c5",
   "metadata": {},
   "source": [
    "Accessing Keys and Values"
   ]
  },
  {
   "cell_type": "code",
   "execution_count": 31,
   "id": "0a2c4356",
   "metadata": {},
   "outputs": [
    {
     "data": {
      "text/plain": [
       "dict_items([('a', 'alpha'), ('o', 'omega'), ('g', 'gamma')])"
      ]
     },
     "execution_count": 31,
     "metadata": {},
     "output_type": "execute_result"
    }
   ],
   "source": [
    "dictionary_unique.items()"
   ]
  },
  {
   "cell_type": "code",
   "execution_count": 33,
   "id": "13dced11",
   "metadata": {},
   "outputs": [
    {
     "name": "stdout",
     "output_type": "stream",
     "text": [
      "alpha\n",
      "omega\n",
      "gamma\n"
     ]
    }
   ],
   "source": [
    "for key,value in dictionary_unique.items():\n",
    "    print(value)"
   ]
  },
  {
   "cell_type": "code",
   "execution_count": 34,
   "id": "beabeb5d",
   "metadata": {},
   "outputs": [
    {
     "data": {
      "text/plain": [
       "dict_keys(['a', 'o', 'g'])"
      ]
     },
     "execution_count": 34,
     "metadata": {},
     "output_type": "execute_result"
    }
   ],
   "source": [
    "dictionary_unique.keys() #accessing keys without for loop"
   ]
  },
  {
   "cell_type": "code",
   "execution_count": 35,
   "id": "e16aef36",
   "metadata": {},
   "outputs": [
    {
     "data": {
      "text/plain": [
       "dict_values(['alpha', 'omega', 'gamma'])"
      ]
     },
     "execution_count": 35,
     "metadata": {},
     "output_type": "execute_result"
    }
   ],
   "source": [
    "dictionary_unique.values() #accessing values without for loop"
   ]
  },
  {
   "cell_type": "code",
   "execution_count": 39,
   "id": "f06d5650",
   "metadata": {},
   "outputs": [
    {
     "data": {
      "text/plain": [
       "'alpha'"
      ]
     },
     "execution_count": 39,
     "metadata": {},
     "output_type": "execute_result"
    }
   ],
   "source": [
    "dictionary_unique['a']"
   ]
  },
  {
   "cell_type": "markdown",
   "id": "1de7be01",
   "metadata": {},
   "source": [
    "# Nested Dictionary"
   ]
  },
  {
   "cell_type": "code",
   "execution_count": 41,
   "id": "df7f6edf",
   "metadata": {},
   "outputs": [],
   "source": [
    "dictionary_nested = {\"AI\":{\"Deep Learning\": \"Python\", \"Machine Learning\": \"Pandas\"},\"linkedin\":\"jobs\",\"nvidia\":\"hardware\"}"
   ]
  },
  {
   "cell_type": "code",
   "execution_count": 42,
   "id": "f13bd650",
   "metadata": {},
   "outputs": [
    {
     "data": {
      "text/plain": [
       "{'AI': {'Deep Learning': 'Python', 'Machine Learning': 'Pandas'},\n",
       " 'linkedin': 'jobs',\n",
       " 'nvidia': 'hardware'}"
      ]
     },
     "execution_count": 42,
     "metadata": {},
     "output_type": "execute_result"
    }
   ],
   "source": [
    "dictionary_nested"
   ]
  },
  {
   "cell_type": "code",
   "execution_count": 43,
   "id": "edc6329f",
   "metadata": {},
   "outputs": [
    {
     "data": {
      "text/plain": [
       "'Python'"
      ]
     },
     "execution_count": 43,
     "metadata": {},
     "output_type": "execute_result"
    }
   ],
   "source": [
    "dictionary_nested['AI']['Deep Learning']"
   ]
  },
  {
   "cell_type": "markdown",
   "id": "ecb499c1",
   "metadata": {},
   "source": [
    "# Keep Learning , Searching And Parcticing\n",
    "### Good Luck"
   ]
  }
 ],
 "metadata": {
  "kernelspec": {
   "display_name": "Python 3",
   "language": "python",
   "name": "python3"
  },
  "language_info": {
   "codemirror_mode": {
    "name": "ipython",
    "version": 3
   },
   "file_extension": ".py",
   "mimetype": "text/x-python",
   "name": "python",
   "nbconvert_exporter": "python",
   "pygments_lexer": "ipython3",
   "version": "3.8.8"
  }
 },
 "nbformat": 4,
 "nbformat_minor": 5
}
