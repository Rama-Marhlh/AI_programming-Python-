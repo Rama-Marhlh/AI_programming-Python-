{
 "cells": [
  {
   "cell_type": "markdown",
   "id": "f1620111",
   "metadata": {},
   "source": [
    "# Task 1"
   ]
  },
  {
   "cell_type": "markdown",
   "id": "a8a2f423",
   "metadata": {},
   "source": [
    "### Write a program to print multiplication table of a given number (10) "
   ]
  },
  {
   "cell_type": "code",
   "execution_count": 2,
   "id": "c00f3c0f",
   "metadata": {},
   "outputs": [
    {
     "name": "stdout",
     "output_type": "stream",
     "text": [
      "5\n",
      "10\n",
      "15\n",
      "20\n",
      "25\n",
      "30\n",
      "35\n",
      "40\n",
      "45\n",
      "50\n"
     ]
    }
   ],
   "source": [
    "num = 5\n",
    "for i in range(1,11):\n",
    "    print(num*i)"
   ]
  },
  {
   "cell_type": "markdown",
   "id": "345b048f",
   "metadata": {},
   "source": [
    "# Task 2"
   ]
  },
  {
   "cell_type": "markdown",
   "id": "41964942",
   "metadata": {},
   "source": [
    "###  You are given with a list of integer elements. Make a new list which will store square of elements of previous list. "
   ]
  },
  {
   "cell_type": "code",
   "execution_count": 3,
   "id": "be7979b2",
   "metadata": {},
   "outputs": [
    {
     "data": {
      "text/plain": [
       "[4, 16, 36, 9, 81, 64, 1]"
      ]
     },
     "execution_count": 3,
     "metadata": {},
     "output_type": "execute_result"
    }
   ],
   "source": [
    "numbers=[2,4,6,3,9,8,1]\n",
    "sqrt_number=[]\n",
    "for num in numbers:\n",
    "    sqrt_number.append(num**2)\n",
    "\n",
    "sqrt_number        "
   ]
  },
  {
   "cell_type": "markdown",
   "id": "5635274e",
   "metadata": {},
   "source": [
    "# Task 3"
   ]
  },
  {
   "cell_type": "markdown",
   "id": "7eb7cd3d",
   "metadata": {},
   "source": [
    "### Calculate the sum of all numbers from 1 to a given number For example, if the variable is 10 the output should be 55 (1+2+3+4+5+6+7+8+9+10) "
   ]
  },
  {
   "cell_type": "code",
   "execution_count": 5,
   "id": "50a6fd8b",
   "metadata": {},
   "outputs": [
    {
     "data": {
      "text/plain": [
       "55"
      ]
     },
     "execution_count": 5,
     "metadata": {},
     "output_type": "execute_result"
    }
   ],
   "source": [
    "num =10\n",
    "sum=0\n",
    "for i in range(1,num+1):\n",
    "    sum+=i\n",
    "sum\n",
    "    "
   ]
  },
  {
   "cell_type": "markdown",
   "id": "67c6d388",
   "metadata": {},
   "source": [
    "# Task 4"
   ]
  },
  {
   "cell_type": "markdown",
   "id": "4a229b2d",
   "metadata": {},
   "source": [
    "### Write a program to display only those numbers from a list that satisfy the following conditions The number must be divisible by five If the number is greater than 150, then skip it and move to the next number If the number is greater than 500, then stop the loop Given list: numbers = [12, 75, 150, 180, 145, 525, 50] "
   ]
  },
  {
   "cell_type": "code",
   "execution_count": 6,
   "id": "19dc9817",
   "metadata": {},
   "outputs": [
    {
     "name": "stdout",
     "output_type": "stream",
     "text": [
      "75\n",
      "150\n",
      "145\n"
     ]
    }
   ],
   "source": [
    "numbers = [12, 75, 150, 180, 145, 525, 50] \n",
    "for i in numbers:\n",
    "    if(i>500):\n",
    "        break\n",
    "    elif(i>150):\n",
    "        continue\n",
    "    elif i%5==0:\n",
    "        print(i)"
   ]
  },
  {
   "cell_type": "markdown",
   "id": "ae1e75f0",
   "metadata": {},
   "source": [
    "# Task 5"
   ]
  },
  {
   "cell_type": "markdown",
   "id": "892cfa9e",
   "metadata": {},
   "source": [
    "### Using range(1,101), make two lists, one containing all even numbers and other containing all odd numbers. "
   ]
  },
  {
   "cell_type": "code",
   "execution_count": 7,
   "id": "7d6c208b",
   "metadata": {},
   "outputs": [
    {
     "name": "stdout",
     "output_type": "stream",
     "text": [
      "[1, 3, 5, 7, 9, 11, 13, 15, 17, 19, 21, 23, 25, 27, 29, 31, 33, 35, 37, 39, 41, 43, 45, 47, 49, 51, 53, 55, 57, 59, 61, 63, 65, 67, 69, 71, 73, 75, 77, 79, 81, 83, 85, 87, 89, 91, 93, 95, 97, 99]\n",
      "**********************************\n",
      "[2, 4, 6, 8, 10, 12, 14, 16, 18, 20, 22, 24, 26, 28, 30, 32, 34, 36, 38, 40, 42, 44, 46, 48, 50, 52, 54, 56, 58, 60, 62, 64, 66, 68, 70, 72, 74, 76, 78, 80, 82, 84, 86, 88, 90, 92, 94, 96, 98, 100]\n"
     ]
    }
   ],
   "source": [
    "odd_num=[]\n",
    "even_num=[]\n",
    "\n",
    "for i in range(1,101):\n",
    "    if i%2==0:\n",
    "        even_num.append(i)\n",
    "    else:\n",
    "        odd_num.append(i)\n",
    "\n",
    "print(odd_num)\n",
    "print(\"**********************************\")\n",
    "print(even_num)        "
   ]
  }
 ],
 "metadata": {
  "kernelspec": {
   "display_name": "Python 3",
   "language": "python",
   "name": "python3"
  },
  "language_info": {
   "codemirror_mode": {
    "name": "ipython",
    "version": 3
   },
   "file_extension": ".py",
   "mimetype": "text/x-python",
   "name": "python",
   "nbconvert_exporter": "python",
   "pygments_lexer": "ipython3",
   "version": "3.8.8"
  }
 },
 "nbformat": 4,
 "nbformat_minor": 5
}
