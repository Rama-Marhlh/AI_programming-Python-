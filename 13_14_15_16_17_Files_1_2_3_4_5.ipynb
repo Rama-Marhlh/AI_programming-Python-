{
 "cells": [
  {
   "cell_type": "markdown",
   "id": "5aed7459",
   "metadata": {},
   "source": [
    "# 13_TxtFiles_1"
   ]
  },
  {
   "cell_type": "markdown",
   "id": "6ed89171",
   "metadata": {},
   "source": [
    "#Open()\n",
    "The key function for working with files in Python is the open() function.\n",
    "\n",
    "The open() function takes two parameters; filename, and mode.\n",
    "\n",
    "There are four different methods (modes) for opening a file:\n",
    "\n",
    "r: open an existing file for a read operation.\n",
    "\n",
    "w: open an existing file for a write operation. If the file already contains some data then it will be overridden.\n",
    "\n",
    "a:  open an existing file for append operation. It won’t override existing data.\n",
    "\n",
    "r+:  To read and write data into the file. The previous data in the file will not be deleted.\n",
    "\n",
    "w+: To write and read data. It will override existing data.\n",
    "\n",
    "a+: To append and read data from the file. It won’t override existing data."
   ]
  },
  {
   "cell_type": "code",
   "execution_count": 2,
   "id": "ad00a722",
   "metadata": {},
   "outputs": [],
   "source": [
    "fi = open('XXXXX.txt','w')\n",
    "print(\"this is my first line \",file=fi)\n",
    "print(\"this is my 2 line\",file=fi)\n",
    "print(\"this is my 3 line\",file=fi)\n",
    "print(\"this is my 4 line\",file=fi)\n",
    "fi.close()"
   ]
  },
  {
   "cell_type": "markdown",
   "id": "6185c01b",
   "metadata": {},
   "source": [
    "# 14_TxtFiles_2"
   ]
  },
  {
   "cell_type": "code",
   "execution_count": 1,
   "id": "74e05c24",
   "metadata": {},
   "outputs": [
    {
     "name": "stdout",
     "output_type": "stream",
     "text": [
      "['First Line\\n', 'Second Line\\n', 'Third Line\\n', 'Fourth Line\\n']\n",
      "*********\n",
      "\n",
      "end of file\n",
      "First Line\n",
      "\n",
      "Second Line\n",
      "\n",
      "Third Line\n",
      "\n",
      "Fourth Line\n",
      "\n",
      "\n",
      "Fi\n",
      "rst\n",
      "5\n",
      "0\n",
      "F\n",
      "15\n",
      "nd Line\n",
      "Thir\n",
      "d Line\n",
      "Fourth Line\n",
      "\n",
      "46\n",
      "0\n",
      "46\n"
     ]
    }
   ],
   "source": [
    "# file_obj.readlines() # read all the lines (list of strings)\n",
    "# file_obj.read() # all file as string\n",
    "# file_obj.readline() # current cursoe will point for a single line\n",
    "\n",
    "\n",
    "file_obj=open('temp.txt','r')\n",
    "print(file_obj.readlines())\n",
    "print(\"*********\")\n",
    "print(file_obj.readline())\n",
    "if file_obj.readline()=='':\n",
    "    print(\"end of file\")\n",
    "file_obj.close()\n",
    "file_obj=open('temp.txt','r')\n",
    "for line in file_obj:\n",
    "    print(line)\n",
    "print(file_obj.read())\n",
    "file_obj.close()\n",
    "file_obj=open('temp.txt','r')\n",
    "print(file_obj.read(2))\n",
    "print(file_obj.read(3))\n",
    "print(file_obj.tell())\n",
    "print(file_obj.seek(0))\n",
    "print(file_obj.read(1))\n",
    "print(file_obj.seek(15))\n",
    "print(file_obj.read(12))\n",
    "print(file_obj.read())\n",
    "print(file_obj.tell())\n",
    "print(file_obj.seek(0))\n",
    "print(file_obj.seek(0,2))\n",
    "\n",
    "with open('YYYYY.txt','w') as fi:\n",
    "    print(\"first line \",file=fi)"
   ]
  },
  {
   "cell_type": "markdown",
   "id": "20f279c4",
   "metadata": {},
   "source": [
    "# 15_TxtFiles_3"
   ]
  },
  {
   "cell_type": "code",
   "execution_count": 3,
   "id": "84478ebf",
   "metadata": {},
   "outputs": [
    {
     "name": "stdout",
     "output_type": "stream",
     "text": [
      "First Line\n",
      "Second Line\n",
      "Third Line\n",
      "Fourth Line\n"
     ]
    }
   ],
   "source": [
    "# to read line by line in a file\n",
    "with open('temp.txt','r') as file:\n",
    "    lines=file.read()\n",
    "    print(lines)"
   ]
  },
  {
   "cell_type": "code",
   "execution_count": null,
   "id": "a9d589bd",
   "metadata": {},
   "outputs": [],
   "source": [
    "# to read line by line (anther way) in a file\n",
    "with open('temp.txt','r') as file:\n",
    "    for line in file:\n",
    "        print(line)"
   ]
  },
  {
   "cell_type": "code",
   "execution_count": 4,
   "id": "d61ad0a4",
   "metadata": {},
   "outputs": [
    {
     "name": "stdout",
     "output_type": "stream",
     "text": [
      "['First', 'Line', 'Second', 'Line', 'Third', 'Line', 'Fourth', 'Line']\n",
      "First\n",
      "Line\n",
      "Second\n",
      "Line\n",
      "Third\n",
      "Line\n",
      "Fourth\n",
      "Line\n"
     ]
    }
   ],
   "source": [
    "# to read word by word in a file\n",
    "with open('temp.txt','r') as file:\n",
    "    lines=file.read()\n",
    "    words=lines.split()\n",
    "    print(words)\n",
    "    for word in words:\n",
    "        print(word)"
   ]
  },
  {
   "cell_type": "code",
   "execution_count": 5,
   "id": "5f94543c",
   "metadata": {},
   "outputs": [
    {
     "name": "stdout",
     "output_type": "stream",
     "text": [
      "F\n",
      "i\n",
      "r\n",
      "s\n",
      "t\n",
      " \n",
      "L\n",
      "i\n",
      "n\n",
      "e\n",
      "\n",
      "\n",
      "S\n",
      "e\n",
      "c\n",
      "o\n",
      "n\n",
      "d\n",
      " \n",
      "L\n",
      "i\n",
      "n\n",
      "e\n",
      "\n",
      "\n",
      "T\n",
      "h\n",
      "i\n",
      "r\n",
      "d\n",
      " \n",
      "L\n",
      "i\n",
      "n\n",
      "e\n",
      "\n",
      "\n",
      "F\n",
      "o\n",
      "u\n",
      "r\n",
      "t\n",
      "h\n",
      " \n",
      "L\n",
      "i\n",
      "n\n",
      "e\n"
     ]
    }
   ],
   "source": [
    "# to read char by char in a file\n",
    "with open('temp.txt','r') as file:\n",
    "    lines=file.read()\n",
    "    words=lines.split()\n",
    "    for char in lines:\n",
    "        print(char)"
   ]
  },
  {
   "cell_type": "code",
   "execution_count": 7,
   "id": "addd721a",
   "metadata": {},
   "outputs": [
    {
     "name": "stdout",
     "output_type": "stream",
     "text": [
      "F\n",
      "i\n",
      "r\n",
      "s\n",
      "t\n",
      " \n",
      "L\n",
      "i\n",
      "n\n",
      "e\n",
      "\n",
      "\n",
      "S\n",
      "e\n",
      "c\n",
      "o\n",
      "n\n",
      "d\n",
      " \n",
      "L\n",
      "i\n",
      "n\n",
      "e\n",
      "\n",
      "\n",
      "T\n",
      "h\n",
      "i\n",
      "r\n",
      "d\n",
      " \n",
      "L\n",
      "i\n",
      "n\n",
      "e\n",
      "\n",
      "\n",
      "F\n",
      "o\n",
      "u\n",
      "r\n",
      "t\n",
      "h\n",
      " \n",
      "L\n",
      "i\n",
      "n\n",
      "e\n"
     ]
    }
   ],
   "source": [
    "# to read char by char (anther way) in a file:\n",
    "with open('temp.txt','r') as file:\n",
    "    for line in file:\n",
    "        for char in line:\n",
    "            print(char)"
   ]
  },
  {
   "cell_type": "markdown",
   "id": "73b6b08f",
   "metadata": {},
   "source": [
    "1) Let’s assume the file to read is significantly large (in GB), and you don’t want to read the whole file in memory at once. Write a python program to jump and read lines #5 and #120."
   ]
  },
  {
   "cell_type": "code",
   "execution_count": 8,
   "id": "b06f63bd",
   "metadata": {},
   "outputs": [
    {
     "name": "stdout",
     "output_type": "stream",
     "text": [
      "the number if line 5\n",
      "Json;Computer Programming;Python Programming;Sorting;\n",
      "\n",
      "the number if line 10\n",
      "Smart Contract;Ethereum;Blockchains;Solidity;Cryptography;Bitcoin;Cryptocurrency;Blockchain;Remix IDE;MetaMask client;Decentralized Applications;Truffle IDE;\n",
      "\n",
      "the number if line 100\n",
      "Software Development;Product Management;Agile Software Development;\n",
      "\n",
      "the number if line 120\n",
      "no keywords\n",
      "\n",
      "the number if line 200\n",
      "Constraint Programming;Problem Solving;Mathematical Model;Discrete Optimization;\n",
      "\n"
     ]
    }
   ],
   "source": [
    "with open('Keywords.txt','r') as file:\n",
    "    numbers=[5,10,100,120,200]\n",
    "    line_counter=1\n",
    "    lines=file.readlines()\n",
    "    for line in lines:\n",
    "        if line_counter in numbers:\n",
    "            print(\"the number if line\",line_counter)\n",
    "            print(line)\n",
    "        line_counter+=1\n",
    "        \n",
    "'''\n",
    "# anther style of soluation\n",
    "\n",
    "lines=[5,10,100,120,200]\n",
    "file_obj=open('Keywords.txt','r')\n",
    "line_counter=1\n",
    "for line in file_obj:\n",
    "    if line_counter in lines:\n",
    "        print(\"the line number is \",line_counter)\n",
    "        print(line)\n",
    "    if line_counter >lines[-1]:\n",
    "        break\n",
    "    line_counter+=1\n",
    "print(\"this is the end of the code\")\n",
    "'''"
   ]
  },
  {
   "cell_type": "markdown",
   "id": "dae52905",
   "metadata": {},
   "source": [
    "2) Write a function in Python to count uppercase character in a text file (story.txt)"
   ]
  },
  {
   "cell_type": "code",
   "execution_count": 9,
   "id": "1b954bf0",
   "metadata": {},
   "outputs": [
    {
     "name": "stdout",
     "output_type": "stream",
     "text": [
      "5\n"
     ]
    }
   ],
   "source": [
    "def count_uppercase():\n",
    "    with open (\"story.txt\",'r') as file:\n",
    "        count_upper=0\n",
    "        file.seek(0,2)\n",
    "        end=file.tell()\n",
    "        file.seek(0)\n",
    "        for count in range(0,end):\n",
    "            line=file.readline()\n",
    "            for char in line:\n",
    "                if char.isupper():\n",
    "                    count_upper+=1\n",
    "        print(count_upper)\n",
    "count_uppercase()\n",
    "\n",
    "'''\n",
    "# anther style of soluation\n",
    "\n",
    "def count_upperCase2():\n",
    "    with open(\"story.txt\", 'r') as file_obj3:\n",
    "        upper_count=0\n",
    "        char=file_obj3.read(1)\n",
    "        while char !='' : #if i reached empty ''\n",
    "            if char.isupper():\n",
    "                upper_count +=1\n",
    "            char=file_obj3.read(1)\n",
    "            \n",
    "        print (upper_count)\n",
    "\n",
    "\n",
    "'''"
   ]
  },
  {
   "cell_type": "markdown",
   "id": "cd104556",
   "metadata": {},
   "source": [
    "3) Write a function in Python to build a dictionary that stores the count of words \"this\" and \"these\" present in a text file \"article.txt\". [Note that the words \"this\" and \"these\" are complete words]."
   ]
  },
  {
   "cell_type": "code",
   "execution_count": 10,
   "id": "a1d85041",
   "metadata": {},
   "outputs": [
    {
     "name": "stdout",
     "output_type": "stream",
     "text": [
      "1\n"
     ]
    }
   ],
   "source": [
    "def count_words():\n",
    "    file = open(\"article.txt\",\"r\")\n",
    "    count = 0\n",
    "    data = file.read()\n",
    "    words = data.split()\n",
    "    for word in words:\n",
    "        if word == 'this' or word =='these':\n",
    "            count+=1\n",
    "    print(count)\n",
    "    file.close()\n",
    "\n",
    "count_words()"
   ]
  },
  {
   "cell_type": "markdown",
   "id": "d6c3b200",
   "metadata": {},
   "source": [
    "# 16_TxtFiles_4"
   ]
  },
  {
   "cell_type": "code",
   "execution_count": 11,
   "id": "5ecd7bb1",
   "metadata": {},
   "outputs": [],
   "source": [
    "with open('newfile.txt',\"w\") as creat:\n",
    "    print(\"this line number one\",file=creat)\n",
    "    print(\"this line number two\",file=creat)\n",
    "    print(\"this line number three\",file=creat)\n",
    "    print(\"this line number four\",file=creat)   "
   ]
  },
  {
   "cell_type": "code",
   "execution_count": 13,
   "id": "1e41d0e3",
   "metadata": {},
   "outputs": [],
   "source": [
    "input_file=open(\"newfile.txt\",'r')\n",
    "output_file=open(\"output.txt\",\"w\")\n",
    "\n",
    "for line_str in input_file:\n",
    "    new_str=''\n",
    "    line_str=line_str.strip()\n",
    "    for char in line_str:\n",
    "        new_str=char+new_str\n",
    "    print(new_str,file=output_file)\n",
    "    \n",
    "input_file.close()\n",
    "output_file.close()"
   ]
  },
  {
   "cell_type": "code",
   "execution_count": 15,
   "id": "8ec5d024",
   "metadata": {},
   "outputs": [],
   "source": [
    "def find_word_has(file_object,part_of_word):\n",
    "    output_file=open(\"wordsFound2.txt\",'w')\n",
    "    for line in file_object:\n",
    "        if(line.find(part_of_word)!=-1):\n",
    "            print(line.strip(),file=output_file)\n",
    "# after the for loop finished on all the word\n",
    "    output_file.close()\n",
    "    \n",
    "    \n",
    "#main file\n",
    "fobj=open(\"dictionary.txt\")\n",
    "find_word_has(fobj,\"lly\")\n",
    "fobj.close()"
   ]
  },
  {
   "cell_type": "code",
   "execution_count": 16,
   "id": "a563822a",
   "metadata": {},
   "outputs": [
    {
     "name": "stdout",
     "output_type": "stream",
     "text": [
      "Find words containing vowels 'aeiou' in that order:\n",
      "abstemious\n",
      "abstemiously\n",
      "abstentious\n",
      "acheilous\n",
      "acheirous\n",
      "acleistous\n",
      "affectious\n",
      "annelidous\n",
      "arsenious\n",
      "arterious\n",
      "bacterious\n",
      "caesious\n",
      "facetious\n",
      "facetiously\n",
      "fracedinous\n",
      "majestious\n"
     ]
    }
   ],
   "source": [
    "# Find a word with a single example of the vowels a, e, i, o, u in that order\n",
    "def clean_word(word):\n",
    "    \"\"\"Return word in lower case stripped of whitespace.\"\"\"\n",
    "    return word.strip().lower()\n",
    "\n",
    "def get_vowels_in_word(word):\n",
    "    \"\"\"Return vowels in string word--include repeats.\"\"\"\n",
    "    vowel_str = \"aeiou\"\n",
    "    vowels_in_word = \"\"\n",
    "    for char in word:\n",
    "        if char in vowel_str:\n",
    "            vowels_in_word += char\n",
    "    return vowels_in_word\n",
    "           \n",
    "# main program\n",
    "print(\"Find words containing vowels 'aeiou' in that order:\")\n",
    "data_file = open(\"dictionary.txt\", \"r\")\n",
    "for word in data_file:      # for each word in the file\n",
    "    word = clean_word(word) # clean the word\n",
    "    if len(word) <= 6:      # if word is too small, skip it\n",
    "        continue\n",
    "    vowel_str = get_vowels_in_word(word)  # get vowels in word\n",
    "    if vowel_str == 'aeiou':              # check all vowels in order\n",
    "        print(word)\n"
   ]
  },
  {
   "cell_type": "markdown",
   "id": "ecf6df64",
   "metadata": {},
   "source": [
    "# 16_CsvFiles_5"
   ]
  },
  {
   "cell_type": "code",
   "execution_count": 17,
   "id": "2ee2f302",
   "metadata": {},
   "outputs": [],
   "source": [
    "import csv"
   ]
  },
  {
   "cell_type": "code",
   "execution_count": 18,
   "id": "692c8704",
   "metadata": {},
   "outputs": [],
   "source": [
    "# we have to define a reader and a writer"
   ]
  },
  {
   "cell_type": "code",
   "execution_count": 20,
   "id": "f20a5864",
   "metadata": {},
   "outputs": [],
   "source": [
    "csv_file_input=open('Mall_Customers.csv','r')"
   ]
  },
  {
   "cell_type": "code",
   "execution_count": 21,
   "id": "d7525566",
   "metadata": {},
   "outputs": [],
   "source": [
    "# we need to defina a reader to read from a csv file\n",
    "csv_reader=csv.reader(csv_file_input)"
   ]
  },
  {
   "cell_type": "code",
   "execution_count": 22,
   "id": "f24080f5",
   "metadata": {},
   "outputs": [
    {
     "name": "stdout",
     "output_type": "stream",
     "text": [
      "['CustomerID', 'Genre', 'Age', 'Annual Income (k$)', 'Spending Score (1-100)']\n",
      "['0001', 'Male', '19', '15', '39']\n",
      "['0002', 'Male', '21', '15', '81']\n",
      "['0003', 'Female', '20', '16', '6']\n",
      "['0004', 'Female', '23', '16', '77']\n",
      "['0005', 'Female', '31', '17', '40']\n",
      "['0006', 'Female', '22', '17', '76']\n",
      "['0007', 'Female', '35', '18', '6']\n",
      "['0008', 'Female', '23', '18', '94']\n",
      "['0009', 'Male', '64', '19', '3']\n",
      "['0010', 'Female', '30', '19', '72']\n",
      "['0011', 'Male', '67', '19', '14']\n",
      "['0012', 'Female', '35', '19', '99']\n",
      "['0013', 'Female', '58', '20', '15']\n",
      "['0014', 'Female', '24', '20', '77']\n",
      "['0015', 'Male', '37', '20', '13']\n",
      "['0016', 'Male', '22', '20', '79']\n",
      "['0017', 'Female', '35', '21', '35']\n",
      "['0018', 'Male', '20', '21', '66']\n",
      "['0019', 'Male', '52', '23', '29']\n",
      "['0020', 'Female', '35', '23', '98']\n",
      "['0021', 'Male', '35', '24', '35']\n",
      "['0022', 'Male', '25', '24', '73']\n",
      "['0023', 'Female', '46', '25', '5']\n",
      "['0024', 'Male', '31', '25', '73']\n",
      "['0025', 'Female', '54', '28', '14']\n",
      "['0026', 'Male', '29', '28', '82']\n",
      "['0027', 'Female', '45', '28', '32']\n",
      "['0028', 'Male', '35', '28', '61']\n",
      "['0029', 'Female', '40', '29', '31']\n",
      "['0030', 'Female', '23', '29', '87']\n",
      "['0031', 'Male', '60', '30', '4']\n",
      "['0032', 'Female', '21', '30', '73']\n",
      "['0033', 'Male', '53', '33', '4']\n",
      "['0034', 'Male', '18', '33', '92']\n",
      "['0035', 'Female', '49', '33', '14']\n",
      "['0036', 'Female', '21', '33', '81']\n",
      "['0037', 'Female', '42', '34', '17']\n",
      "['0038', 'Female', '30', '34', '73']\n",
      "['0039', 'Female', '36', '37', '26']\n",
      "['0040', 'Female', '20', '37', '75']\n",
      "['0041', 'Female', '65', '38', '35']\n",
      "['0042', 'Male', '24', '38', '92']\n",
      "['0043', 'Male', '48', '39', '36']\n",
      "['0044', 'Female', '31', '39', '61']\n",
      "['0045', 'Female', '49', '39', '28']\n",
      "['0046', 'Female', '24', '39', '65']\n",
      "['0047', 'Female', '50', '40', '55']\n",
      "['0048', 'Female', '27', '40', '47']\n",
      "['0049', 'Female', '29', '40', '42']\n",
      "['0050', 'Female', '31', '40', '42']\n",
      "['0051', 'Female', '49', '42', '52']\n",
      "['0052', 'Male', '33', '42', '60']\n",
      "['0053', 'Female', '31', '43', '54']\n",
      "['0054', 'Male', '59', '43', '60']\n",
      "['0055', 'Female', '50', '43', '45']\n",
      "['0056', 'Male', '47', '43', '41']\n",
      "['0057', 'Female', '51', '44', '50']\n",
      "['0058', 'Male', '69', '44', '46']\n",
      "['0059', 'Female', '27', '46', '51']\n",
      "['0060', 'Male', '53', '46', '46']\n",
      "['0061', 'Male', '70', '46', '56']\n",
      "['0062', 'Male', '19', '46', '55']\n",
      "['0063', 'Female', '67', '47', '52']\n",
      "['0064', 'Female', '54', '47', '59']\n",
      "['0065', 'Male', '63', '48', '51']\n",
      "['0066', 'Male', '18', '48', '59']\n",
      "['0067', 'Female', '43', '48', '50']\n",
      "['0068', 'Female', '68', '48', '48']\n",
      "['0069', 'Male', '19', '48', '59']\n",
      "['0070', 'Female', '32', '48', '47']\n",
      "['0071', 'Male', '70', '49', '55']\n",
      "['0072', 'Female', '47', '49', '42']\n",
      "['0073', 'Female', '60', '50', '49']\n",
      "['0074', 'Female', '60', '50', '56']\n",
      "['0075', 'Male', '59', '54', '47']\n",
      "['0076', 'Male', '26', '54', '54']\n",
      "['0077', 'Female', '45', '54', '53']\n",
      "['0078', 'Male', '40', '54', '48']\n",
      "['0079', 'Female', '23', '54', '52']\n",
      "['0080', 'Female', '49', '54', '42']\n",
      "['0081', 'Male', '57', '54', '51']\n",
      "['0082', 'Male', '38', '54', '55']\n",
      "['0083', 'Male', '67', '54', '41']\n",
      "['0084', 'Female', '46', '54', '44']\n",
      "['0085', 'Female', '21', '54', '57']\n",
      "['0086', 'Male', '48', '54', '46']\n",
      "['0087', 'Female', '55', '57', '58']\n",
      "['0088', 'Female', '22', '57', '55']\n",
      "['0089', 'Female', '34', '58', '60']\n",
      "['0090', 'Female', '50', '58', '46']\n",
      "['0091', 'Female', '68', '59', '55']\n",
      "['0092', 'Male', '18', '59', '41']\n",
      "['0093', 'Male', '48', '60', '49']\n",
      "['0094', 'Female', '40', '60', '40']\n",
      "['0095', 'Female', '32', '60', '42']\n",
      "['0096', 'Male', '24', '60', '52']\n",
      "['0097', 'Female', '47', '60', '47']\n",
      "['0098', 'Female', '27', '60', '50']\n",
      "['0099', 'Male', '48', '61', '42']\n",
      "['0100', 'Male', '20', '61', '49']\n",
      "['0101', 'Female', '23', '62', '41']\n",
      "['0102', 'Female', '49', '62', '48']\n",
      "['0103', 'Male', '67', '62', '59']\n",
      "['0104', 'Male', '26', '62', '55']\n",
      "['0105', 'Male', '49', '62', '56']\n",
      "['0106', 'Female', '21', '62', '42']\n",
      "['0107', 'Female', '66', '63', '50']\n",
      "['0108', 'Male', '54', '63', '46']\n",
      "['0109', 'Male', '68', '63', '43']\n",
      "['0110', 'Male', '66', '63', '48']\n",
      "['0111', 'Male', '65', '63', '52']\n",
      "['0112', 'Female', '19', '63', '54']\n",
      "['0113', 'Female', '38', '64', '42']\n",
      "['0114', 'Male', '19', '64', '46']\n",
      "['0115', 'Female', '18', '65', '48']\n",
      "['0116', 'Female', '19', '65', '50']\n",
      "['0117', 'Female', '63', '65', '43']\n",
      "['0118', 'Female', '49', '65', '59']\n",
      "['0119', 'Female', '51', '67', '43']\n",
      "['0120', 'Female', '50', '67', '57']\n",
      "['0121', 'Male', '27', '67', '56']\n",
      "['0122', 'Female', '38', '67', '40']\n",
      "['0123', 'Female', '40', '69', '58']\n",
      "['0124', 'Male', '39', '69', '91']\n",
      "['0125', 'Female', '23', '70', '29']\n",
      "['0126', 'Female', '31', '70', '77']\n",
      "['0127', 'Male', '43', '71', '35']\n",
      "['0128', 'Male', '40', '71', '95']\n",
      "['0129', 'Male', '59', '71', '11']\n",
      "['0130', 'Male', '38', '71', '75']\n",
      "['0131', 'Male', '47', '71', '9']\n",
      "['0132', 'Male', '39', '71', '75']\n",
      "['0133', 'Female', '25', '72', '34']\n",
      "['0134', 'Female', '31', '72', '71']\n",
      "['0135', 'Male', '20', '73', '5']\n",
      "['0136', 'Female', '29', '73', '88']\n",
      "['0137', 'Female', '44', '73', '7']\n",
      "['0138', 'Male', '32', '73', '73']\n",
      "['0139', 'Male', '19', '74', '10']\n",
      "['0140', 'Female', '35', '74', '72']\n",
      "['0141', 'Female', '57', '75', '5']\n",
      "['0142', 'Male', '32', '75', '93']\n",
      "['0143', 'Female', '28', '76', '40']\n",
      "['0144', 'Female', '32', '76', '87']\n",
      "['0145', 'Male', '25', '77', '12']\n",
      "['0146', 'Male', '28', '77', '97']\n",
      "['0147', 'Male', '48', '77', '36']\n",
      "['0148', 'Female', '32', '77', '74']\n",
      "['0149', 'Female', '34', '78', '22']\n",
      "['0150', 'Male', '34', '78', '90']\n",
      "['0151', 'Male', '43', '78', '17']\n",
      "['0152', 'Male', '39', '78', '88']\n",
      "['0153', 'Female', '44', '78', '20']\n",
      "['0154', 'Female', '38', '78', '76']\n",
      "['0155', 'Female', '47', '78', '16']\n",
      "['0156', 'Female', '27', '78', '89']\n",
      "['0157', 'Male', '37', '78', '1']\n",
      "['0158', 'Female', '30', '78', '78']\n",
      "['0159', 'Male', '34', '78', '1']\n",
      "['0160', 'Female', '30', '78', '73']\n",
      "['0161', 'Female', '56', '79', '35']\n",
      "['0162', 'Female', '29', '79', '83']\n",
      "['0163', 'Male', '19', '81', '5']\n",
      "['0164', 'Female', '31', '81', '93']\n",
      "['0165', 'Male', '50', '85', '26']\n",
      "['0166', 'Female', '36', '85', '75']\n",
      "['0167', 'Male', '42', '86', '20']\n",
      "['0168', 'Female', '33', '86', '95']\n",
      "['0169', 'Female', '36', '87', '27']\n",
      "['0170', 'Male', '32', '87', '63']\n",
      "['0171', 'Male', '40', '87', '13']\n",
      "['0172', 'Male', '28', '87', '75']\n",
      "['0173', 'Male', '36', '87', '10']\n",
      "['0174', 'Male', '36', '87', '92']\n",
      "['0175', 'Female', '52', '88', '13']\n",
      "['0176', 'Female', '30', '88', '86']\n",
      "['0177', 'Male', '58', '88', '15']\n",
      "['0178', 'Male', '27', '88', '69']\n",
      "['0179', 'Male', '59', '93', '14']\n",
      "['0180', 'Male', '35', '93', '90']\n",
      "['0181', 'Female', '37', '97', '32']\n",
      "['0182', 'Female', '32', '97', '86']\n",
      "['0183', 'Male', '46', '98', '15']\n",
      "['0184', 'Female', '29', '98', '88']\n",
      "['0185', 'Female', '41', '99', '39']\n",
      "['0186', 'Male', '30', '99', '97']\n",
      "['0187', 'Female', '54', '101', '24']\n",
      "['0188', 'Male', '28', '101', '68']\n",
      "['0189', 'Female', '41', '103', '17']\n",
      "['0190', 'Female', '36', '103', '85']\n",
      "['0191', 'Female', '34', '103', '23']\n",
      "['0192', 'Female', '32', '103', '69']\n",
      "['0193', 'Male', '33', '113', '8']\n",
      "['0194', 'Female', '38', '113', '91']\n",
      "['0195', 'Female', '47', '120', '16']\n",
      "['0196', 'Female', '35', '120', '79']\n",
      "['0197', 'Female', '45', '126', '28']\n",
      "['0198', 'Male', '32', '126', '74']\n",
      "['0199', 'Male', '32', '137', '18']\n",
      "['0200', 'Male', '30', '137', '83']\n"
     ]
    }
   ],
   "source": [
    "# reading a csv file --> a list of strings for each row\n",
    "for row in csv_reader:\n",
    "    print(row)"
   ]
  },
  {
   "cell_type": "code",
   "execution_count": 23,
   "id": "91cb3f81",
   "metadata": {},
   "outputs": [
    {
     "name": "stdout",
     "output_type": "stream",
     "text": [
      "201\n"
     ]
    }
   ],
   "source": [
    "csv_file_input= open('Mall_Customers.csv', 'r')\n",
    "csv_reader= csv.reader(csv_file_input)\n",
    "\n",
    "sheet=[]\n",
    "for row in csv_reader:\n",
    "    sheet.append(row)\n",
    "    \n",
    "print(len(sheet))\n",
    "\n",
    "csv_file_input.close()\n",
    "\n",
    "\n",
    "csv_file_output= open(\"updated_mall_customers.csv\", 'w')\n",
    "csv_writer=csv.writer(csv_file_output)\n",
    "\n",
    "header=['CustID','Genre','Age','updated income','Spending Score (1-100)']\n",
    "csv_writer.writerow(header)\n",
    "\n",
    "\n",
    "for i in range(1, len(sheet)):\n",
    "    sheet[i][3]= int(sheet[i][3])+ 100\n",
    "\n",
    "    \n",
    "    \n",
    "csv_writer.writerows(sheet[1:])\n",
    "\n",
    "csv_file_output.close()"
   ]
  },
  {
   "cell_type": "markdown",
   "id": "a27ab6a5",
   "metadata": {},
   "source": [
    "# More Examples On Csv Files"
   ]
  },
  {
   "cell_type": "code",
   "execution_count": 3,
   "id": "cd3cc395",
   "metadata": {},
   "outputs": [
    {
     "name": "stdout",
     "output_type": "stream",
     "text": [
      "['Name', 'Exam1', 'Exam2', 'Final Exam', 'Overall Grade']\n",
      "{'Exam1': 225, 'Exam2': 250, 'Final Exam': 200, 'Overall Grade': 225}\n"
     ]
    }
   ],
   "source": [
    "import csv\n",
    "def copy(file_name):\n",
    "    sheet=[]\n",
    "    f=open( file_name , 'r')\n",
    "    csv_reader= csv.reader(f)\n",
    "    for row in csv_reader:\n",
    "       sheet.append(row)\n",
    "    return sheet\n",
    "\n",
    "\n",
    "def transpose():\n",
    "    dicta={}\n",
    "    sheet=copy('workbook1.csv')\n",
    "    print(sheet[0])\n",
    "\n",
    "    for i in range(1,5): \n",
    "        avg=0\n",
    "        row_count=0\n",
    "        for row in sheet:\n",
    "           if  row != sheet[0] and row_count<= 3: \n",
    "               value=int(row[i])\n",
    "               avg+=value\n",
    "               row_count+=1   \n",
    "        key=sheet[0][i]\n",
    "        dicta[key]=int(avg)\n",
    "    return print(dicta)\n",
    "\n",
    "transpose()"
   ]
  },
  {
   "cell_type": "markdown",
   "id": "16f5f409",
   "metadata": {},
   "source": [
    "# Keep Learning , Searching And Parcticing\n",
    "### Good Luck"
   ]
  }
 ],
 "metadata": {
  "kernelspec": {
   "display_name": "Python 3",
   "language": "python",
   "name": "python3"
  },
  "language_info": {
   "codemirror_mode": {
    "name": "ipython",
    "version": 3
   },
   "file_extension": ".py",
   "mimetype": "text/x-python",
   "name": "python",
   "nbconvert_exporter": "python",
   "pygments_lexer": "ipython3",
   "version": "3.8.8"
  }
 },
 "nbformat": 4,
 "nbformat_minor": 5
}
