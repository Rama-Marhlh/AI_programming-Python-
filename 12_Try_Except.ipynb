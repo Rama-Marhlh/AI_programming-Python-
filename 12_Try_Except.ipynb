{
 "cells": [
  {
   "cell_type": "markdown",
   "id": "5503d2ae",
   "metadata": {},
   "source": [
    "# try except\n",
    "The Python try… except statement catches an exception. It is used to test code for an error which is written in the “try” statement. If an error is encountered, the contents of the “except” block are run"
   ]
  },
  {
   "cell_type": "code",
   "execution_count": 4,
   "id": "6f75e847",
   "metadata": {},
   "outputs": [
    {
     "ename": "ValueError",
     "evalue": "invalid literal for int() with base 10: 'hello'",
     "output_type": "error",
     "traceback": [
      "\u001b[1;31m---------------------------------------------------------------------------\u001b[0m",
      "\u001b[1;31mValueError\u001b[0m                                Traceback (most recent call last)",
      "\u001b[1;32m<ipython-input-4-8b45c4e64824>\u001b[0m in \u001b[0;36m<module>\u001b[1;34m\u001b[0m\n\u001b[1;32m----> 1\u001b[1;33m \u001b[0mx\u001b[0m\u001b[1;33m=\u001b[0m\u001b[0mint\u001b[0m\u001b[1;33m(\u001b[0m\u001b[1;34m\"hello\"\u001b[0m\u001b[1;33m)\u001b[0m\u001b[1;33m\u001b[0m\u001b[1;33m\u001b[0m\u001b[0m\n\u001b[0m\u001b[0;32m      2\u001b[0m \u001b[0mprint\u001b[0m\u001b[1;33m(\u001b[0m\u001b[1;34m\"this line after x\"\u001b[0m\u001b[1;33m)\u001b[0m\u001b[1;33m\u001b[0m\u001b[1;33m\u001b[0m\u001b[0m\n",
      "\u001b[1;31mValueError\u001b[0m: invalid literal for int() with base 10: 'hello'"
     ]
    }
   ],
   "source": [
    "x=int(\"hello\") # Error\n",
    "print(\"this line after x\") "
   ]
  },
  {
   "cell_type": "code",
   "execution_count": 5,
   "id": "ad095c19",
   "metadata": {},
   "outputs": [
    {
     "name": "stdout",
     "output_type": "stream",
     "text": [
      "the value enterd to be converted is not integer value\n",
      "this line after try except\n"
     ]
    }
   ],
   "source": [
    "try:\n",
    "    x=int(\"hello\")\n",
    "except ValueError:\n",
    "    print(\"the value enterd to be converted is not integer value\")\n",
    "print(\"this line after try except\")"
   ]
  },
  {
   "cell_type": "code",
   "execution_count": 6,
   "id": "e15cce24",
   "metadata": {},
   "outputs": [
    {
     "ename": "IndexError",
     "evalue": "list index out of range",
     "output_type": "error",
     "traceback": [
      "\u001b[1;31m---------------------------------------------------------------------------\u001b[0m",
      "\u001b[1;31mIndexError\u001b[0m                                Traceback (most recent call last)",
      "\u001b[1;32m<ipython-input-6-eb275f930425>\u001b[0m in \u001b[0;36m<module>\u001b[1;34m\u001b[0m\n\u001b[0;32m      1\u001b[0m \u001b[0mls\u001b[0m\u001b[1;33m=\u001b[0m\u001b[1;33m[\u001b[0m\u001b[1;36m1\u001b[0m\u001b[1;33m,\u001b[0m\u001b[1;36m2\u001b[0m\u001b[1;33m,\u001b[0m\u001b[1;36m3\u001b[0m\u001b[1;33m,\u001b[0m\u001b[1;36m4\u001b[0m\u001b[1;33m]\u001b[0m\u001b[1;33m\u001b[0m\u001b[1;33m\u001b[0m\u001b[0m\n\u001b[1;32m----> 2\u001b[1;33m \u001b[0mprint\u001b[0m\u001b[1;33m(\u001b[0m\u001b[0mls\u001b[0m\u001b[1;33m[\u001b[0m\u001b[1;36m4\u001b[0m\u001b[1;33m]\u001b[0m\u001b[1;33m)\u001b[0m\u001b[1;33m\u001b[0m\u001b[1;33m\u001b[0m\u001b[0m\n\u001b[0m",
      "\u001b[1;31mIndexError\u001b[0m: list index out of range"
     ]
    }
   ],
   "source": [
    "ls=[1,2,3,4]\n",
    "print(ls[4]) # Error"
   ]
  },
  {
   "cell_type": "code",
   "execution_count": 9,
   "id": "e403b708",
   "metadata": {},
   "outputs": [
    {
     "name": "stdout",
     "output_type": "stream",
     "text": [
      "list index out of range\n"
     ]
    }
   ],
   "source": [
    "try:\n",
    "    ls=[1,2,3,4]\n",
    "    print(ls[4])\n",
    "except IndexError:\n",
    "    print(\"list index out of range\")"
   ]
  },
  {
   "cell_type": "code",
   "execution_count": 8,
   "id": "e9b2fbf3",
   "metadata": {},
   "outputs": [
    {
     "ename": "KeyError",
     "evalue": "'v'",
     "output_type": "error",
     "traceback": [
      "\u001b[1;31m---------------------------------------------------------------------------\u001b[0m",
      "\u001b[1;31mKeyError\u001b[0m                                  Traceback (most recent call last)",
      "\u001b[1;32m<ipython-input-8-1783f54424bc>\u001b[0m in \u001b[0;36m<module>\u001b[1;34m\u001b[0m\n\u001b[0;32m      1\u001b[0m \u001b[0mdic\u001b[0m\u001b[1;33m=\u001b[0m\u001b[1;33m{\u001b[0m\u001b[1;34m'a'\u001b[0m\u001b[1;33m:\u001b[0m\u001b[1;34m\"apple\"\u001b[0m\u001b[1;33m,\u001b[0m\u001b[1;34m\"b\"\u001b[0m\u001b[1;33m:\u001b[0m\u001b[1;34m\"banana\"\u001b[0m\u001b[1;33m}\u001b[0m\u001b[1;33m\u001b[0m\u001b[1;33m\u001b[0m\u001b[0m\n\u001b[1;32m----> 2\u001b[1;33m \u001b[0mprint\u001b[0m\u001b[1;33m(\u001b[0m\u001b[0mdic\u001b[0m\u001b[1;33m[\u001b[0m\u001b[1;34m'v'\u001b[0m\u001b[1;33m]\u001b[0m\u001b[1;33m)\u001b[0m\u001b[1;33m\u001b[0m\u001b[1;33m\u001b[0m\u001b[0m\n\u001b[0m",
      "\u001b[1;31mKeyError\u001b[0m: 'v'"
     ]
    }
   ],
   "source": [
    "dic={'a':\"apple\",\"b\":\"banana\"}\n",
    "print(dic['v']) # Error"
   ]
  },
  {
   "cell_type": "code",
   "execution_count": 10,
   "id": "59c7bac2",
   "metadata": {},
   "outputs": [
    {
     "name": "stdout",
     "output_type": "stream",
     "text": [
      "the key does not exist\n"
     ]
    }
   ],
   "source": [
    "try:\n",
    "    dic={'a':\"apple\",\"b\":\"banana\"}\n",
    "    print(dic['v'])\n",
    "except KeyError:\n",
    "    print(\"the key does not exist\")    "
   ]
  },
  {
   "cell_type": "code",
   "execution_count": 5,
   "id": "1609e8a9",
   "metadata": {},
   "outputs": [
    {
     "name": "stdout",
     "output_type": "stream",
     "text": [
      "the value enterd to be converted is not integer value (number)\n"
     ]
    }
   ],
   "source": [
    "# the first error done in try will break the code\n",
    "try:\n",
    "    x=int(\"hello\")\n",
    "    \n",
    "    ls=[1,2,3,4]\n",
    "    print(ls[4])\n",
    "    \n",
    "    dic={'a':\"apple\",\"b\":\"banana\"}\n",
    "    print(dic['v'])\n",
    "      \n",
    "except ValueError:\n",
    "    print(\"the value enterd to be converted is not integer value (number)\")\n",
    "except KeyError:\n",
    "    print(\"the key does not exist\")  \n",
    "except IndexError:\n",
    "    print(\"list index out of range\")   "
   ]
  },
  {
   "cell_type": "markdown",
   "id": "edaf5c8f",
   "metadata": {},
   "source": [
    "# More Example On Try Except"
   ]
  },
  {
   "cell_type": "code",
   "execution_count": 1,
   "id": "12befe23",
   "metadata": {},
   "outputs": [],
   "source": [
    "# when we trying to open a file with mode read and the file dose not exist --> error"
   ]
  },
  {
   "cell_type": "code",
   "execution_count": 2,
   "id": "bd4a3bd3",
   "metadata": {},
   "outputs": [
    {
     "ename": "FileNotFoundError",
     "evalue": "[Errno 2] No such file or directory: 'newfile.txt'",
     "output_type": "error",
     "traceback": [
      "\u001b[1;31m---------------------------------------------------------------------------\u001b[0m",
      "\u001b[1;31mFileNotFoundError\u001b[0m                         Traceback (most recent call last)",
      "\u001b[1;32m<ipython-input-2-a724b3ad8e1f>\u001b[0m in \u001b[0;36m<module>\u001b[1;34m\u001b[0m\n\u001b[1;32m----> 1\u001b[1;33m \u001b[0mfogj\u001b[0m\u001b[1;33m=\u001b[0m\u001b[0mopen\u001b[0m\u001b[1;33m(\u001b[0m\u001b[1;34m\"newfile.txt\"\u001b[0m\u001b[1;33m,\u001b[0m\u001b[1;34m'r'\u001b[0m\u001b[1;33m)\u001b[0m\u001b[1;33m\u001b[0m\u001b[1;33m\u001b[0m\u001b[0m\n\u001b[0m",
      "\u001b[1;31mFileNotFoundError\u001b[0m: [Errno 2] No such file or directory: 'newfile.txt'"
     ]
    }
   ],
   "source": [
    "fogj=open(\"newfile.txt\",'r') # Error"
   ]
  },
  {
   "cell_type": "code",
   "execution_count": 3,
   "id": "ee20a467",
   "metadata": {},
   "outputs": [
    {
     "name": "stdout",
     "output_type": "stream",
     "text": [
      "the code had an error\n",
      "this is the end of the try except\n",
      "in main code\n"
     ]
    }
   ],
   "source": [
    "try:\n",
    "    fogj=open(\"newfile.txt\",'r')\n",
    "\n",
    "    x=10\n",
    "    y=int('string')\n",
    "    \n",
    "except ValueError:\n",
    "        print(\"the value enterd to be converted is not integer value\")\n",
    "except: #if i dont know what the error will be we wrote except without any kind of error (All er)\n",
    "    print(\"the code had an error\")\n",
    "finally: #that will run at all time (end logical case)\n",
    "    #in file handling closing write file\n",
    "    print(\"this is the end of the try except\")\n",
    "print(\"in main code\")"
   ]
  },
  {
   "cell_type": "code",
   "execution_count": 4,
   "id": "58a78cc6",
   "metadata": {},
   "outputs": [
    {
     "name": "stdout",
     "output_type": "stream",
     "text": [
      "r\n",
      "the code does not had an error\n",
      "finally\n"
     ]
    }
   ],
   "source": [
    "try:\n",
    "    x='string'\n",
    "    c=x[2]\n",
    "    print(c)\n",
    "except:\n",
    "    print(\"the code had an error\")\n",
    "else:\n",
    "    print(\"the code does not had an error\")\n",
    "finally:\n",
    "    print(\"finally\")"
   ]
  },
  {
   "cell_type": "markdown",
   "id": "e92bbb27",
   "metadata": {},
   "source": [
    "One common problem when prompting for numerical input occurs when people provide text instead of numbers. When you try to convert the input to an int, you’ll get a ValueError. Write a program that prompts for two numbers. Add them together and print the result. Catch the TypeError if either input value is not a number, and print a friendly error message. Test your program by entering two numbers and then by entering some text instead of a number."
   ]
  },
  {
   "cell_type": "code",
   "execution_count": 1,
   "id": "add08e1a",
   "metadata": {},
   "outputs": [
    {
     "name": "stdout",
     "output_type": "stream",
     "text": [
      "enter your number 2\n",
      "enter anther number three\n",
      "please enter number not string of a number \n"
     ]
    }
   ],
   "source": [
    "try:\n",
    "    number1=int(input(\"enter your number \"))\n",
    "    number2=int(input(\"enter anther number \"))\n",
    "except ValueError:\n",
    "    print(\"please enter number not string of a number \")\n",
    "else:\n",
    "    sum=number1+number2\n",
    "    print(number1 ,\"+\", number2, \"=\" ,sum)  "
   ]
  },
  {
   "cell_type": "markdown",
   "id": "b08438f1",
   "metadata": {},
   "source": [
    "# Keep Learning , Searching And Parcticing\n",
    "### Good Luck"
   ]
  }
 ],
 "metadata": {
  "kernelspec": {
   "display_name": "Python 3",
   "language": "python",
   "name": "python3"
  },
  "language_info": {
   "codemirror_mode": {
    "name": "ipython",
    "version": 3
   },
   "file_extension": ".py",
   "mimetype": "text/x-python",
   "name": "python",
   "nbconvert_exporter": "python",
   "pygments_lexer": "ipython3",
   "version": "3.8.8"
  }
 },
 "nbformat": 4,
 "nbformat_minor": 5
}
