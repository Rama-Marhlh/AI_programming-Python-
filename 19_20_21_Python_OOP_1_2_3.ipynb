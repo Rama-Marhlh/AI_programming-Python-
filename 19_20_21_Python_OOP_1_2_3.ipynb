{
 "cells": [
  {
   "cell_type": "markdown",
   "id": "378a0381",
   "metadata": {},
   "source": [
    "# Python is an object-oriented programming language."
   ]
  },
  {
   "cell_type": "markdown",
   "id": "4f080076",
   "metadata": {},
   "source": [
    "## Class : a specification, blueprint for an object\n",
    "\n",
    "## Object : It is the copy of the class (physical presence of the class in memory)\n",
    "\n",
    "## Instance : Its a variable which is used to hold memory address of the object."
   ]
  },
  {
   "cell_type": "markdown",
   "id": "9e2fea03",
   "metadata": {},
   "source": [
    "## 19_Python OOP 1 - Classes and Instances"
   ]
  },
  {
   "cell_type": "code",
   "execution_count": 3,
   "id": "f538df09",
   "metadata": {},
   "outputs": [
    {
     "name": "stdout",
     "output_type": "stream",
     "text": [
      "<__main__.Employee object at 0x000001EFFF3867F0>\n",
      "<__main__.Employee object at 0x000001EFFF3861C0>\n"
     ]
    }
   ],
   "source": [
    "class Employee:\n",
    "    pass\n",
    "\n",
    "emp_1=Employee()\n",
    "emp_2=Employee()\n",
    "\n",
    "print(emp_1)\n",
    "print(emp_2)"
   ]
  },
  {
   "cell_type": "code",
   "execution_count": 9,
   "id": "b86e08b7",
   "metadata": {},
   "outputs": [],
   "source": [
    "emp_1.first=\"ali\"\n",
    "emp_1.last=\"omar\"\n",
    "emp_1.email='ali.omae@gmail.com'\n",
    "emp_1.salary=50000"
   ]
  },
  {
   "cell_type": "code",
   "execution_count": 10,
   "id": "67d8f478",
   "metadata": {},
   "outputs": [],
   "source": [
    "emp_2.first=\"test\"\n",
    "emp_2.last=\"user\"\n",
    "emp_2.email='test.user@gmail.com'\n",
    "emp_2.salary=60000"
   ]
  },
  {
   "cell_type": "code",
   "execution_count": 11,
   "id": "4554d7b5",
   "metadata": {
    "scrolled": true
   },
   "outputs": [
    {
     "name": "stdout",
     "output_type": "stream",
     "text": [
      "ali\n",
      "test.user@gmail.com\n"
     ]
    }
   ],
   "source": [
    "print(emp_1.first)\n",
    "print(emp_2.email)"
   ]
  },
  {
   "cell_type": "code",
   "execution_count": 21,
   "id": "16314c37",
   "metadata": {},
   "outputs": [
    {
     "name": "stdout",
     "output_type": "stream",
     "text": [
      "ali\n",
      "this is an instance of a employee class\n",
      "Test.Employee@email.com\n",
      "ali omar\n",
      "ali omar\n"
     ]
    }
   ],
   "source": [
    "class Employee:\n",
    "        #instance as the first argument\n",
    "    def __init__(self, first, last, salary):\n",
    "        #emp_2.first=\"test\"\n",
    "        self.first = first\n",
    "        self.last = last\n",
    "        self.email = first + '.' + last + '@email.com'\n",
    "        self.salary = salary\n",
    "        \n",
    "    #string description of a class object it will be called ones you print the object itself\n",
    "    def __str__(self):\n",
    "        return 'this is an instance of a employee class'\n",
    "    \n",
    "     #new method each methd with in a  calss automatically takes the instance as the first argument \n",
    "    #A function that’s part of a class is a method\n",
    "    def fullname(self):\n",
    "        return '{} {}'.format(self.first, self.last)\n",
    "\n",
    "emp_1 = Employee('ali', 'omar', 50000)\n",
    "emp_2 = Employee('Test', 'Employee', 60000)\n",
    "\n",
    "print(emp_1.first)\n",
    "print(emp_1)\n",
    "print(emp_2.email)\n",
    "#the instance which in this case ie employee 1 is getting passed automatically\n",
    "print(emp_1.fullname())\n",
    "print(Employee.fullname(emp_1))"
   ]
  },
  {
   "cell_type": "markdown",
   "id": "9e11b11b",
   "metadata": {},
   "source": [
    "## Python OOP  - Class Variables "
   ]
  },
  {
   "cell_type": "code",
   "execution_count": 17,
   "id": "778ba3cb",
   "metadata": {},
   "outputs": [
    {
     "name": "stdout",
     "output_type": "stream",
     "text": [
      "50000\n",
      "52500\n",
      "2\n"
     ]
    }
   ],
   "source": [
    "class Employee:\n",
    "    #class var\n",
    "    raise_salary=1.05  #5%\n",
    "    num_of_emps=0\n",
    "    def __init__(self, first, last, salary):\n",
    "       # instance var\n",
    "        self.first = first\n",
    "        self.last = last\n",
    "        self.email = first + '.' + last + '@email.com'\n",
    "        self.salary = salary\n",
    "        \n",
    "        Employee.num_of_emps+=1\n",
    "        \n",
    "    def fullname(self):\n",
    "        return '{} {}'.format(self.first, self.last)\n",
    "    def apply_raise(self):\n",
    "        self.salary=int(self.salary*self.raise_salary)\n",
    "emp_1 = Employee('ali', 'omar', 50000)\n",
    "emp_2 = Employee('Test', 'Employee', 60000)\n",
    "\n",
    "print(emp_1.salary)\n",
    "emp_1.apply_raise()\n",
    "print(emp_1.salary)\n",
    "print(Employee.num_of_emps)"
   ]
  },
  {
   "cell_type": "markdown",
   "id": "a7dc5187",
   "metadata": {},
   "source": [
    "## 20_Python OOP 2 - Inheritance  Creating Subclasses "
   ]
  },
  {
   "cell_type": "code",
   "execution_count": 1,
   "id": "2be2a788",
   "metadata": {},
   "outputs": [],
   "source": [
    "# Inheritance\n",
    "class Employee:\n",
    "    #class var\n",
    "    raise_sal=1.05 # %5\n",
    "    num_of_emps=0\n",
    "    def __init__(self, first, last, salary):\n",
    "       # instance var\n",
    "        self.first = first\n",
    "        self.last = last\n",
    "        self.email = first + '.' + last + '@email.com'\n",
    "        self.salary = salary\n",
    "        \n",
    "        Employee.num_of_emps+=1\n",
    "        \n",
    "    def fullname(self):\n",
    "        return '{} {}'.format(self.first, self.last)\n",
    "   \n",
    "    def apply_raise(self):\n",
    "        self.salary=int(self.salary * self.raise_sal)\n",
    "        \n",
    "class Developer(Employee):\n",
    "    def __init__(self,first,last,salray,prog_lang):\n",
    "        super().__init__(first,last,salray)\n",
    "        self.prog_lang=prog_lang\n",
    "        \n",
    "dev_1=Developer(\"ali\",\"omar\",50000,\"pyhton\")\n",
    "\n",
    "print(dev_1.first)\n",
    "print(dev_1.fullname())    \n",
    "    \n",
    "\n",
    "#print(help(Developer)) "
   ]
  },
  {
   "cell_type": "markdown",
   "id": "701de46a",
   "metadata": {},
   "source": [
    "# 21_Python OOP 3"
   ]
  },
  {
   "cell_type": "markdown",
   "id": "fc977d1e",
   "metadata": {},
   "source": [
    "Restaurant: Make a class called Restaurant. The init() method for Restaurant should store two attributes: a restaurant_name and a cuisine_type. Make a method called describe_restaurant() that prints these two pieces of information, and a method called open_restaurant() that prints a message indicating that the restaurant is open. Make an instance called restaurant from your class. Print the two attributes individually, and then call both methods."
   ]
  },
  {
   "cell_type": "code",
   "execution_count": 3,
   "id": "0b6be9ef",
   "metadata": {},
   "outputs": [
    {
     "name": "stdout",
     "output_type": "stream",
     "text": [
      "eating\n",
      "italian\n",
      "call the function\n",
      "the name of the rest is :  eating\n",
      "the type of the rest is :  italian\n",
      "None\n",
      "the Restaurant is open \n",
      "None\n",
      "the name of the rest is :  new rest \n",
      "the type of the rest is :  chinease\n",
      "None\n",
      "the price of the male is :  80\n"
     ]
    }
   ],
   "source": [
    "class Restaurant:\n",
    "       # function init ->  automatically called when we define an instance\n",
    "       # self -> represents the instance that is defined by the class Restaurant\n",
    "    def __init__(self,rest_name,cus_type):\n",
    "        #attribute name for the instance = parameter function\n",
    "        # 2 local vatiabels for each Restaurant\n",
    "        self.restaurant_name=rest_name#sepcial attribute for each instance from the class\n",
    "        self.cuisine_type=cus_type\n",
    "        \n",
    "        self.price=price()# object type of class price  \n",
    "    def describe_restaurant(self):\n",
    "        print(\"the name of the rest is : \",self.restaurant_name)\n",
    "        print(\"the type of the rest is : \",self.cuisine_type)\n",
    "    def open_restaurant(self):\n",
    "        print(\"the Restaurant is open \")\n",
    "        \n",
    "class price:\n",
    "    def __init__(self,m_price=80):\n",
    "        self.meal_price=m_price\n",
    "        \n",
    "    def print_price(self):\n",
    "        print(\"the price of the male is : \",self.meal_price)   \n",
    "my_rest=Restaurant(\"eating\",\"italian\")\n",
    "# calling attributes\n",
    "print(my_rest.restaurant_name)\n",
    "print(my_rest.cuisine_type)\n",
    "\n",
    "print(\"call the function\")\n",
    "\n",
    "print(my_rest.describe_restaurant())\n",
    "print(my_rest.open_restaurant())\n",
    "\n",
    "#atfter adding the price \n",
    "new_rest=Restaurant(\"new rest \",\"chinease\")\n",
    "print(new_rest.describe_restaurant())\n",
    "new_rest.price.print_price()"
   ]
  },
  {
   "cell_type": "code",
   "execution_count": 4,
   "id": "81561983",
   "metadata": {},
   "outputs": [],
   "source": [
    "#from file_name import Restaurant"
   ]
  },
  {
   "cell_type": "markdown",
   "id": "0949a1d5",
   "metadata": {},
   "source": [
    "IceCreamStand: An ice cream stand is a specific kind of restaurant. Write a class called IceCreamStand that inherits from the Restaurant class you wrote in 1. Add an attribute called flavors that stores a list of ice cream flavors. Write a method that displays these flavors. Create an instance of IceCreamStand, and call this method"
   ]
  },
  {
   "cell_type": "code",
   "execution_count": 5,
   "id": "ffd01264",
   "metadata": {},
   "outputs": [
    {
     "name": "stdout",
     "output_type": "stream",
     "text": [
      "the name of the rest is :  The Big One\n",
      "the type of the rest is :  ice_cream\n",
      "\n",
      "We have the following flavors available:\n",
      "- Vanilla\n",
      "- Chocolate\n",
      "- Black Cherry\n"
     ]
    }
   ],
   "source": [
    "class IceCreamStand(Restaurant):\n",
    "    \"\"\"Represent an ice cream stand.\"\"\"\n",
    "\n",
    "    def __init__(self, name, cuisine_type='ice_cream'):\n",
    "        \"\"\"Initialize an ice cream stand.\"\"\"\n",
    "        super().__init__(name, cuisine_type)\n",
    "        self.flavors = []\n",
    "\n",
    "    def show_flavors(self):\n",
    "        \"\"\"Display the flavors available.\"\"\"\n",
    "        print(\"\\nWe have the following flavors available:\")\n",
    "        for flavor in self.flavors:\n",
    "            print(\"- \" + flavor.title())\n",
    "\n",
    "\n",
    "big_one = IceCreamStand('The Big One')\n",
    "big_one.flavors = ['vanilla', 'chocolate', 'black cherry']\n",
    "\n",
    "big_one.describe_restaurant()\n",
    "big_one.show_flavors()"
   ]
  },
  {
   "cell_type": "markdown",
   "id": "566ffda7",
   "metadata": {},
   "source": [
    "Users: Make a class called User. Create two attributes called first_name and last_name, and then create several other attributes that are typically stored in a user profile. Make a method called describe_user() that prints a summary of the user’s information. Make another method called greet_user() that prints a personalized greeting to the user. Create several instances representing different users, and call both methods for each user."
   ]
  },
  {
   "cell_type": "code",
   "execution_count": 6,
   "id": "279050c9",
   "metadata": {},
   "outputs": [
    {
     "name": "stdout",
     "output_type": "stream",
     "text": [
      "\n",
      "Eric Matthes\n",
      "  Username: e_matthes\n",
      "  Email: e_matthes@example.com\n",
      "  Location: Alaska\n",
      "\n",
      "Welcome back, e_matthes!\n",
      "\n",
      "Willie Burger\n",
      "  Username: willieburger\n",
      "  Email: wb@example.com\n",
      "  Location: Alaska\n",
      "\n",
      "Welcome back, willieburger!\n"
     ]
    }
   ],
   "source": [
    "class User():\n",
    "    \"\"\"Represent a simple user profile.\"\"\"\n",
    "\n",
    "    def __init__(self, first_name, last_name, username, email, location):\n",
    "        \"\"\"Initialize the user.\"\"\"\n",
    "        self.first_name = first_name.title()\n",
    "        self.last_name = last_name.title()\n",
    "        self.username = username\n",
    "        self.email = email\n",
    "        self.location = location.title()\n",
    "\n",
    "    def describe_user(self):\n",
    "        \"\"\"Display a summary of the user's information.\"\"\"\n",
    "        print(\"\\n\" + self.first_name + \" \" + self.last_name)\n",
    "        print(\"  Username: \" + self.username)\n",
    "        print(\"  Email: \" + self.email)\n",
    "        print(\"  Location: \" + self.location)\n",
    "\n",
    "    def greet_user(self):\n",
    "        \"\"\"Display a personalized greeting to the user.\"\"\"\n",
    "        print(\"\\nWelcome back, \" + self.username + \"!\")\n",
    "\n",
    "eric = User('eric', 'matthes', 'e_matthes', 'e_matthes@example.com', 'alaska')\n",
    "eric.describe_user()\n",
    "eric.greet_user()\n",
    "\n",
    "willie = User('willie', 'burger', 'willieburger', 'wb@example.com', 'alaska')\n",
    "willie.describe_user()\n",
    "willie.greet_user()"
   ]
  },
  {
   "cell_type": "markdown",
   "id": "9f61a3c3",
   "metadata": {},
   "source": [
    "Admin: An administrator is a special kind of user. Write a class called Admin that inherits from the User class you wrote in 3. Add an attribute, privileges, that stores a list of strings like \"can add post\", \"can delete post\", \"can ban user\", and so on. Write a method called show_privileges() that lists the administrator’s set of privileges. Create an instance of Admin, and call your method."
   ]
  },
  {
   "cell_type": "code",
   "execution_count": 7,
   "id": "66b52b61",
   "metadata": {},
   "outputs": [
    {
     "name": "stdout",
     "output_type": "stream",
     "text": [
      "\n",
      "Ali Omar\n",
      "  Username: aliomar\n",
      "  Email: aliomar@email.com\n",
      "  Location: Jordan\n",
      "- can add post\n",
      "- can delete post\n",
      "- can ban user\n"
     ]
    }
   ],
   "source": [
    "class Admin(User):\n",
    "    def __init__(self,first_name, last_name, username, email, location):\n",
    "        super().__init__(first_name, last_name, username, email, location)\n",
    "        self.privileges=[]  \n",
    "        \n",
    "    def show_privileges(self):\n",
    "        for pri in self.privileges:\n",
    "            print(\"-\",pri)\n",
    "     \n",
    "admin_1 = Admin(\"ali\",\"omar\",\"aliomar\",\"aliomar@email.com\",\"jordan\")\n",
    "admin_1.describe_user()\n",
    "admin_1.privileges=[\"can add post\", \"can delete post\", \"can ban user\"]\n",
    "admin_1.show_privileges()"
   ]
  },
  {
   "cell_type": "markdown",
   "id": "1d9a8178",
   "metadata": {},
   "source": [
    "Privileges: Write a separate Privileges class. The class should have one attribute, privileges, that stores a list of strings 4. Move the show_privileges() method to this class. Make a Privileges instance as an attribute in the Admin class. Create a new instance of Admin and use your method to show its privileges."
   ]
  },
  {
   "cell_type": "code",
   "execution_count": 8,
   "id": "ae43dafe",
   "metadata": {},
   "outputs": [
    {
     "name": "stdout",
     "output_type": "stream",
     "text": [
      "\n",
      "Eric Matthes\n",
      "  Username: e_matthes\n",
      "  Email: e_matthes@example.com\n",
      "  Location: Alaska\n",
      "\n",
      "Privileges:\n",
      "- This user has no privileges.\n",
      "\n",
      "Adding privileges...\n",
      "\n",
      "Privileges:\n",
      "- can reset passwords\n",
      "- can moderate discussions\n",
      "- can suspend accounts\n"
     ]
    }
   ],
   "source": [
    "class User():\n",
    "    \"\"\"Represent a simple user profile.\"\"\"\n",
    "\n",
    "    def __init__(self, first_name, last_name, username, email, location):\n",
    "        \"\"\"Initialize the user.\"\"\"\n",
    "        self.first_name = first_name.title()\n",
    "        self.last_name = last_name.title()\n",
    "        self.username = username\n",
    "        self.email = email\n",
    "        self.location = location.title()\n",
    "        self.login_attempts = 0\n",
    "\n",
    "    def describe_user(self):\n",
    "        \"\"\"Display a summary of the user's information.\"\"\"\n",
    "        print(\"\\n\" + self.first_name + \" \" + self.last_name)\n",
    "        print(\"  Username: \" + self.username)\n",
    "        print(\"  Email: \" + self.email)\n",
    "        print(\"  Location: \" + self.location)\n",
    "\n",
    "    def greet_user(self):\n",
    "        \"\"\"Display a personalized greeting to the user.\"\"\"\n",
    "        print(\"\\nWelcome back, \" + self.username + \"!\")\n",
    "\n",
    "    def increment_login_attempts(self):\n",
    "        \"\"\"Increment the value of login_attempts.\"\"\"\n",
    "        self.login_attempts += 1\n",
    "\n",
    "    def reset_login_attempts(self):\n",
    "        \"\"\"Reset login_attempts to 0.\"\"\"\n",
    "        self.login_attempts = 0\n",
    "\n",
    "\n",
    "class Admin(User):\n",
    "    \"\"\"A user with administrative privileges.\"\"\"\n",
    "\n",
    "    def __init__(self, first_name, last_name, username, email, location):\n",
    "        \"\"\"Initialize the admin.\"\"\"\n",
    "        super().__init__(first_name, last_name, username, email, location)\n",
    "\n",
    "        # Initialize an empty set of privileges.\n",
    "        # Make a Privileges instance as an attribute in the Admin class\n",
    "        self.privileges = Privileges()\n",
    "\n",
    "class Privileges():\n",
    "    \"\"\"A class to store an admin's privileges.\"\"\"\n",
    "\n",
    "    def __init__(self, privileges=[]):\n",
    "        self.privileges = privileges\n",
    "\n",
    "    def show_privileges(self):\n",
    "        print(\"\\nPrivileges:\")\n",
    "        if self.privileges:\n",
    "            for privilege in self.privileges:\n",
    "                print(\"- \" + privilege)\n",
    "        else:\n",
    "            print(\"- This user has no privileges.\")\n",
    "\n",
    "\n",
    "eric = Admin('eric', 'matthes', 'e_matthes', 'e_matthes@example.com', 'alaska')\n",
    "eric.describe_user()\n",
    "\n",
    "eric.privileges.show_privileges()\n",
    "\n",
    "print(\"\\nAdding privileges...\")\n",
    "eric_privileges = [\n",
    "    'can reset passwords',\n",
    "    'can moderate discussions',\n",
    "    'can suspend accounts',\n",
    "    ]\n",
    "eric.privileges.privileges = eric_privileges\n",
    "eric.privileges.show_privileges()"
   ]
  },
  {
   "cell_type": "code",
   "execution_count": 1,
   "id": "616986c5",
   "metadata": {},
   "outputs": [],
   "source": [
    "# FOR MORE : \n",
    "# https://ehmatthes.github.io/pcc/solutions/chapter_9.html#9-6-ice-cream-stand"
   ]
  },
  {
   "cell_type": "markdown",
   "id": "d14aa58f",
   "metadata": {},
   "source": [
    "# More Examples On Classes"
   ]
  },
  {
   "cell_type": "markdown",
   "id": "f50c54b8",
   "metadata": {},
   "source": [
    " what is the output of this class ?"
   ]
  },
  {
   "cell_type": "code",
   "execution_count": 2,
   "id": "ea5b9117",
   "metadata": {},
   "outputs": [
    {
     "name": "stdout",
     "output_type": "stream",
     "text": [
      "[1, 2, 3]\n",
      "[]\n",
      "[10, 11, 12]\n",
      "[11, 12]\n",
      "23\n"
     ]
    }
   ],
   "source": [
    "class MyClass (object):\n",
    "    def method1(self, param_tuple):\n",
    "        self.local_list = []\n",
    "        print(param_tuple)\n",
    "        for element in param_tuple:\n",
    "             if element > 10:\n",
    "                self.local_list.append(element)\n",
    "    def method2(self):\n",
    "        self.sum_int = 0\n",
    "        for element in self.local_list:\n",
    "             self.sum_int += element\n",
    "        return self.sum_int\n",
    "    \n",
    "inst1 = MyClass()\n",
    "inst2 = MyClass()\n",
    "inst1.method1([1,2,3])\n",
    "print(inst1.local_list) # Line 1\n",
    "inst1.method1([10,11,12])\n",
    "print(inst1.local_list) # Line 2\n",
    "print(inst1.method2()) # Line 3\n",
    "#inst2.method2() # Line 4 --> error becouse we did not pass the argument to the parameter in the method inside the class."
   ]
  },
  {
   "cell_type": "code",
   "execution_count": 1,
   "id": "e546d1ce",
   "metadata": {},
   "outputs": [
    {
     "name": "stdout",
     "output_type": "stream",
     "text": [
      "Value 4 is even\n",
      "even\n",
      "negative\n",
      "odd\n",
      "Value 1 is odd\n"
     ]
    }
   ],
   "source": [
    "class NewClass(object):\n",
    "    def __init__(self,param_int=1):\n",
    "        self.the_int = param_int\n",
    "        if param_int%2==0:\n",
    "            self.parity='even'\n",
    "        else:\n",
    "            self.parity='odd'\n",
    "    def process(self,instance):\n",
    "        sum_int = self.the_int + instance.the_int\n",
    "        if sum_int < 0:\n",
    "             return 'negative'\n",
    "        elif sum_int % 2==0:\n",
    "            return 'even'\n",
    "        else:\n",
    "            return 'odd'\n",
    "    def __str__(self):\n",
    "        return 'Value {} is {}'.format(self.the_int,self.parity)\n",
    "    \n",
    "inst1=NewClass(4)\n",
    "inst2=NewClass(-5)\n",
    "inst3=NewClass()\n",
    "print(inst1) # Line 1\n",
    "print(inst1.parity) # Line 2\n",
    "print(inst1.process(inst2)) # Line 3\n",
    "print(inst3.process(inst1)) # Line 4\n",
    "print(inst3)"
   ]
  },
  {
   "cell_type": "markdown",
   "id": "653072f7",
   "metadata": {},
   "source": [
    "# Keep Learning , Searching And Parcticing\n",
    "### Good Luck"
   ]
  }
 ],
 "metadata": {
  "kernelspec": {
   "display_name": "Python 3",
   "language": "python",
   "name": "python3"
  },
  "language_info": {
   "codemirror_mode": {
    "name": "ipython",
    "version": 3
   },
   "file_extension": ".py",
   "mimetype": "text/x-python",
   "name": "python",
   "nbconvert_exporter": "python",
   "pygments_lexer": "ipython3",
   "version": "3.8.8"
  }
 },
 "nbformat": 4,
 "nbformat_minor": 5
}
