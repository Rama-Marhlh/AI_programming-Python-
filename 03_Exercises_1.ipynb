{
 "cells": [
  {
   "cell_type": "markdown",
   "metadata": {
    "id": "J9UiQ1PdpjJt"
   },
   "source": [
    "**Exercises**\n",
    "\n",
    "problem solving"
   ]
  },
  {
   "cell_type": "markdown",
   "metadata": {
    "id": "3Lp2Coyancya"
   },
   "source": [
    "\n",
    "\n",
    "\n",
    "---\n",
    "\n",
    "\n",
    "1) Write a while loop which is going to run until the user enters a value of 10 or higher. Run the code and understand how it works.\n",
    "\n"
   ]
  },
  {
   "cell_type": "code",
   "execution_count": 19,
   "metadata": {
    "id": "JWQoaazAnUO1"
   },
   "outputs": [
    {
     "name": "stdout",
     "output_type": "stream",
     "text": [
      "Enter you number 4\n",
      "your number was less than 10\n",
      "Enter you number 8\n",
      "your number was less than 10\n",
      "Enter you number 10\n",
      "your number was at least 10\n"
     ]
    }
   ],
   "source": [
    "user_input = int(input(\"Enter you number \"))\n",
    "\n",
    "while user_input < 10 :\n",
    "    print(\"your number was less than 10\")\n",
    "    user_input = int(input(\"Enter you number \"))\n",
    "print(\"your number was at least 10\")  "
   ]
  },
  {
   "cell_type": "markdown",
   "metadata": {
    "id": "JcvuiaE1o9-7"
   },
   "source": [
    "2) **Infinite Loop** : if the condition is always true, the loop will enter infinite state"
   ]
  },
  {
   "cell_type": "code",
   "execution_count": null,
   "metadata": {
    "id": "2DOcI3b9pIMd"
   },
   "outputs": [],
   "source": [
    "#while True:\n",
    "   # print('Forever')"
   ]
  },
  {
   "cell_type": "markdown",
   "metadata": {
    "id": "duEHgtmpp0pF"
   },
   "source": [
    "3) **Explicit Infinite Loop**\n",
    "can be stopped using a break\n",
    "write a program to input a or b or c from user if the user input was q break"
   ]
  },
  {
   "cell_type": "code",
   "execution_count": 20,
   "metadata": {
    "id": "FXleJcbRqK8v"
   },
   "outputs": [
    {
     "name": "stdout",
     "output_type": "stream",
     "text": [
      "Please enter 'a', 'b', or 'c', or enter 'q' to quit: a\n",
      "You selected option 'a'!\n",
      "Please enter 'a', 'b', or 'c', or enter 'q' to quit: b\n",
      "You selected option 'b'!\n",
      "Please enter 'a', 'b', or 'c', or enter 'q' to quit: c\n",
      "You selected option 'c'!\n",
      "Please enter 'a', 'b', or 'c', or enter 'q' to quit: q\n",
      "You selected option 'q'! !\n"
     ]
    }
   ],
   "source": [
    "while True:\n",
    "\tselected_option = input(\"Please enter 'a', 'b', or 'c', or enter 'q' to quit: \")\n",
    "\n",
    "\tif selected_option == \"a\":\n",
    "\t\tprint(\"You selected option 'a'!\")\n",
    "\telif selected_option == \"b\":\n",
    "\t\tprint(\"You selected option 'b'!\")\n",
    "\telif selected_option == \"c\":\n",
    "\t\tprint(\"You selected option 'c'!\")\n",
    "\telif selected_option == \"q\":\n",
    "\t\tprint(\"You selected option 'q'! !\")\n",
    "\t\tbreak\n",
    "\telse:\n",
    "\t\tprint(\"You selected an invalid option.\")"
   ]
  },
  {
   "cell_type": "markdown",
   "metadata": {
    "id": "A7xKpDZkq4nv"
   },
   "source": [
    "4) Using **Continue** with  loops\n",
    "write a program to print even number from range 0 to 10"
   ]
  },
  {
   "cell_type": "code",
   "execution_count": 23,
   "metadata": {
    "id": "HXmw4rL-rJAI"
   },
   "outputs": [
    {
     "name": "stdout",
     "output_type": "stream",
     "text": [
      "0\n",
      "2\n",
      "4\n",
      "6\n",
      "8\n",
      "10\n"
     ]
    }
   ],
   "source": [
    "for number in range(11):\n",
    "    if number %2!=0:\n",
    "        continue\n",
    "    print(number)        "
   ]
  },
  {
   "cell_type": "markdown",
   "metadata": {
    "id": "uLBwaNFqqe8o"
   },
   "source": [
    "5) Take 10 integers from keyboard using loop and print their average value on the screen."
   ]
  },
  {
   "cell_type": "code",
   "execution_count": 24,
   "metadata": {
    "id": "dK5f-f8FpQPl"
   },
   "outputs": [
    {
     "name": "stdout",
     "output_type": "stream",
     "text": [
      "Enter your numbers to calculate the average : 98\n",
      "Enter your numbers to calculate the average : 90\n",
      "Enter your numbers to calculate the average : 89\n",
      "Enter your numbers to calculate the average : 98\n",
      "Enter your numbers to calculate the average : 99\n",
      "Enter your numbers to calculate the average : 79\n",
      "Enter your numbers to calculate the average : 98\n",
      "Enter your numbers to calculate the average : 99\n",
      "Enter your numbers to calculate the average : 99\n",
      "Enter your numbers to calculate the average : 99\n",
      "94.8\n"
     ]
    }
   ],
   "source": [
    "sum=0\n",
    "for i in range(10): #0-9\n",
    "    number=int(input(\"Enter your numbers to calculate the average : \"))\n",
    "    sum+=number\n",
    "print(sum/10.0)"
   ]
  },
  {
   "cell_type": "markdown",
   "metadata": {
    "id": "IxGVbLtHrmw1"
   },
   "source": [
    "6) Use a loop and the continue keyword to print out every character in the string \"Python\", except the \"o\"."
   ]
  },
  {
   "cell_type": "code",
   "execution_count": 25,
   "metadata": {
    "id": "NpdauHFarrk9"
   },
   "outputs": [
    {
     "name": "stdout",
     "output_type": "stream",
     "text": [
      "p\n",
      "y\n",
      "h\n",
      "t\n",
      "n\n"
     ]
    }
   ],
   "source": [
    "word = \"pyhton\" \n",
    "for char in word.lower():\n",
    "    if char=='o':\n",
    "        continue\n",
    "    print(char)"
   ]
  },
  {
   "cell_type": "markdown",
   "metadata": {
    "id": "NxYU4IKpqjxG"
   },
   "source": [
    "7) Write a short guessing game program using a while loop. The user should be prompted to guess a number between 1 and 100, and you should tell them whether their guess was too high or too low after each guess. The loop should keeping running until the user guesses the number correctly. (be creative!)"
   ]
  },
  {
   "cell_type": "code",
   "execution_count": 30,
   "metadata": {
    "id": "aDvpcF2crzQg"
   },
   "outputs": [
    {
     "name": "stdout",
     "output_type": "stream",
     "text": [
      "Guessing play!\n",
      "Enter your guessing number : 50\n",
      "your guess was too low ! , gussing again!\n",
      "Enter your guessing number : 75\n",
      "your guess was too high ! , gussing again!\n",
      "Enter your guessing number : 60\n",
      "congrats you guessing the right number , you win!\n"
     ]
    }
   ],
   "source": [
    "#write your code here\n",
    "import random\n",
    "print(\"Guessing play!\")\n",
    "guess=int(input(\"Enter your guessing number : \"))\n",
    "acual_number=random.randint(1,101)\n",
    "while(guess != acual_number):\n",
    "    if(guess > acual_number):\n",
    "        print(\"your guess was too high ! , gussing again!\")\n",
    "        guess=int(input(\"Enter your guessing number : \"))\n",
    "    elif (guess < acual_number):\n",
    "        print(\"your guess was too low ! , gussing again!\")\n",
    "        guess=int(input(\"Enter your guessing number : \"))\n",
    "    \n",
    "print(\"congrats you guessing the right number , you win!\")"
   ]
  },
  {
   "cell_type": "code",
   "execution_count": 29,
   "metadata": {},
   "outputs": [
    {
     "data": {
      "text/plain": [
       "4"
      ]
     },
     "execution_count": 29,
     "metadata": {},
     "output_type": "execute_result"
    }
   ],
   "source": [
    "import random\n",
    "# to ganerate\n",
    "num = random.randint(1,10)\n",
    "num"
   ]
  },
  {
   "cell_type": "markdown",
   "metadata": {},
   "source": [
    "# Keep Learning , Searching , Practicing"
   ]
  },
  {
   "cell_type": "markdown",
   "metadata": {},
   "source": [
    "# Good Luck"
   ]
  }
 ],
 "metadata": {
  "colab": {
   "collapsed_sections": [],
   "name": "Input and While Loop with Exercises.ipynb",
   "provenance": []
  },
  "kernelspec": {
   "display_name": "Python 3",
   "language": "python",
   "name": "python3"
  },
  "language_info": {
   "codemirror_mode": {
    "name": "ipython",
    "version": 3
   },
   "file_extension": ".py",
   "mimetype": "text/x-python",
   "name": "python",
   "nbconvert_exporter": "python",
   "pygments_lexer": "ipython3",
   "version": "3.8.8"
  }
 },
 "nbformat": 4,
 "nbformat_minor": 1
}
