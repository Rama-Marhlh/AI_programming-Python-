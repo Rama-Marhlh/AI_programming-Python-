{
 "cells": [
  {
   "cell_type": "markdown",
   "id": "8ca4b3d7",
   "metadata": {},
   "source": [
    "Task 1: Write a python program to reverse a string without using builtin methods"
   ]
  },
  {
   "cell_type": "code",
   "execution_count": 40,
   "id": "bfbc21bd",
   "metadata": {
    "scrolled": true
   },
   "outputs": [
    {
     "name": "stdout",
     "output_type": "stream",
     "text": [
      "dlrow olleH\n",
      "dlrow olleH\n"
     ]
    }
   ],
   "source": [
    "text=\"Hello world\"\n",
    "#write your code here\n",
    "\n",
    "rev_str=text[::-1]\n",
    "print(rev_str)\n",
    "\n",
    "reverse=''\n",
    "for char in text:    \n",
    "    reverse=char+reverse\n",
    "print(reverse)\n",
    "    "
   ]
  },
  {
   "cell_type": "markdown",
   "id": "8292508c",
   "metadata": {},
   "source": [
    "Task2: Write a python program to check the given string is palindrome or not"
   ]
  },
  {
   "cell_type": "code",
   "execution_count": 41,
   "id": "bebc49fe",
   "metadata": {},
   "outputs": [
    {
     "name": "stdout",
     "output_type": "stream",
     "text": [
      "Yes it is palindrome\n",
      "No it is not palindrome\n",
      "Yes it is palindrome\n"
     ]
    }
   ],
   "source": [
    "s=[\"Karak\",\"Help\", \"WOW\"]\n",
    "#write your code here\n",
    "  \n",
    "for word in s:\n",
    "    reverse=word[::-1] \n",
    "    if word.lower() == reverse.lower():\n",
    "        print(\"Yes it is palindrome\")\n",
    "    else:\n",
    "        print(\"No it is not palindrome\")   "
   ]
  },
  {
   "cell_type": "markdown",
   "id": "4aca14fb",
   "metadata": {},
   "source": [
    "Task 3:count in a dictionary the numebr of words in a string which the key will be the word and the value will be the count how many the word find in a string "
   ]
  },
  {
   "cell_type": "code",
   "execution_count": 43,
   "id": "5a22b307",
   "metadata": {},
   "outputs": [
    {
     "data": {
      "text/plain": [
       "{'to': 2, 'be': 2, 'or': 1, 'not': 1}"
      ]
     },
     "execution_count": 43,
     "metadata": {},
     "output_type": "execute_result"
    }
   ],
   "source": [
    "string =\"to be or not to be\"\n",
    "# to loop on each word .split()\n",
    "ls=string.split()\n",
    "\n",
    "dic={}\n",
    "for word in ls:\n",
    "    if word not in dic:\n",
    "        dic[word]=1\n",
    "    else:\n",
    "        dic[word]+=1\n",
    "dic\n",
    " #{'to':2,'be':2,'or':1,\"not\":1,}"
   ]
  },
  {
   "cell_type": "markdown",
   "id": "4cb0aab7",
   "metadata": {},
   "source": [
    "Task 4: Write a python program find the number of characters present in a string (without using len()) "
   ]
  },
  {
   "cell_type": "code",
   "execution_count": 46,
   "id": "d717fe1e",
   "metadata": {},
   "outputs": [
    {
     "name": "stdout",
     "output_type": "stream",
     "text": [
      "37\n",
      "37\n"
     ]
    }
   ],
   "source": [
    "sentence=\"This is my sentence. find its length.\"\n",
    "#hint: use for loop from 1 to length of string\n",
    "print(len(sentence)) \n",
    "counter=0\n",
    "for i in range(len(sentence)):\n",
    "    counter+=1\n",
    "print(counter)    "
   ]
  },
  {
   "cell_type": "markdown",
   "id": "4c76b82b",
   "metadata": {},
   "source": [
    "Task 5: Write a python program to count the number occurrences all vowels present in a string  "
   ]
  },
  {
   "cell_type": "code",
   "execution_count": 49,
   "id": "4ca25740",
   "metadata": {},
   "outputs": [
    {
     "name": "stdout",
     "output_type": "stream",
     "text": [
      "11\n"
     ]
    }
   ],
   "source": [
    "sentence=\"Looking for a list of short vowel words?\"\n",
    "my_vowels=['A', 'E', 'I', 'O', 'U']\n",
    "\n",
    "counter_vowel=0\n",
    "for i in range(len(sentence)):\n",
    "    if sentence[i].upper() in my_vowels:\n",
    "        counter_vowel+=1\n",
    "print(counter_vowel)"
   ]
  },
  {
   "cell_type": "markdown",
   "id": "1fe51fb9",
   "metadata": {},
   "source": [
    "Tasks On Nested Dictionary ,List ,Tuple"
   ]
  },
  {
   "cell_type": "code",
   "execution_count": 52,
   "id": "a7ab1ea5",
   "metadata": {},
   "outputs": [
    {
     "name": "stdout",
     "output_type": "stream",
     "text": [
      "ahmad\n"
     ]
    }
   ],
   "source": [
    "l=[1,2,['a','b','v'],{'a':[6,2,9,\"ahmad\"]},(9,8,7)]\n",
    "\n",
    "# to get ahmad\n",
    "print(l[3]['a'][3])"
   ]
  },
  {
   "cell_type": "code",
   "execution_count": 53,
   "id": "e78af37b",
   "metadata": {},
   "outputs": [
    {
     "name": "stdout",
     "output_type": "stream",
     "text": [
      "8\n"
     ]
    }
   ],
   "source": [
    "# to get 8\n",
    "print(l[4][1])"
   ]
  },
  {
   "cell_type": "code",
   "execution_count": 11,
   "id": "ebcc0692",
   "metadata": {},
   "outputs": [
    {
     "name": "stdout",
     "output_type": "stream",
     "text": [
      "L\n",
      "o\n",
      "o\n",
      "k\n",
      "i\n",
      "n\n",
      "g\n",
      " \n",
      "f\n",
      "o\n",
      "r\n",
      " \n",
      "a\n",
      " \n",
      "l\n",
      "i\n",
      "s\n",
      "t\n",
      " \n",
      "o\n",
      "f\n",
      " \n",
      "s\n",
      "h\n",
      "o\n",
      "r\n",
      "t\n",
      " \n",
      "v\n",
      "o\n",
      "w\n",
      "e\n",
      "l\n",
      " \n",
      "w\n",
      "o\n",
      "r\n",
      "d\n",
      "s\n",
      "?\n"
     ]
    }
   ],
   "source": [
    "# looping in a string\n",
    "sentence=\"Looking for a list of short vowel words?\"\n",
    "for i in sentence:\n",
    "    print(i)"
   ]
  },
  {
   "cell_type": "code",
   "execution_count": 13,
   "id": "17f674d4",
   "metadata": {},
   "outputs": [
    {
     "name": "stdout",
     "output_type": "stream",
     "text": [
      "L\n",
      "o\n",
      "o\n",
      "k\n",
      "i\n",
      "n\n",
      "g\n",
      " \n",
      "f\n",
      "o\n",
      "r\n",
      " \n",
      "a\n",
      " \n",
      "l\n",
      "i\n",
      "s\n",
      "t\n",
      " \n",
      "o\n",
      "f\n",
      " \n",
      "s\n",
      "h\n",
      "o\n",
      "r\n",
      "t\n",
      " \n",
      "v\n",
      "o\n",
      "w\n",
      "e\n",
      "l\n",
      " \n",
      "w\n",
      "o\n",
      "r\n",
      "d\n",
      "s\n",
      "?\n"
     ]
    }
   ],
   "source": [
    "for i in range(len(sentence)):\n",
    "    print(sentence[i])"
   ]
  },
  {
   "cell_type": "code",
   "execution_count": 15,
   "id": "2bcf8ed0",
   "metadata": {},
   "outputs": [
    {
     "name": "stdout",
     "output_type": "stream",
     "text": [
      "0\n",
      "1\n",
      "2\n",
      "3\n",
      "4\n",
      "5\n",
      "6\n",
      "7\n",
      "8\n",
      "9\n",
      "10\n",
      "11\n",
      "12\n",
      "13\n",
      "14\n",
      "15\n",
      "16\n",
      "17\n",
      "18\n",
      "19\n",
      "20\n",
      "21\n",
      "22\n",
      "23\n",
      "24\n",
      "25\n",
      "26\n",
      "27\n",
      "28\n",
      "29\n",
      "30\n",
      "31\n",
      "32\n",
      "33\n",
      "34\n",
      "35\n",
      "36\n",
      "37\n",
      "38\n",
      "39\n"
     ]
    }
   ],
   "source": [
    "for i in range(len(sentence)):\n",
    "    print(i)"
   ]
  },
  {
   "cell_type": "code",
   "execution_count": null,
   "id": "855abb5e",
   "metadata": {},
   "outputs": [],
   "source": []
  }
 ],
 "metadata": {
  "kernelspec": {
   "display_name": "Python 3",
   "language": "python",
   "name": "python3"
  },
  "language_info": {
   "codemirror_mode": {
    "name": "ipython",
    "version": 3
   },
   "file_extension": ".py",
   "mimetype": "text/x-python",
   "name": "python",
   "nbconvert_exporter": "python",
   "pygments_lexer": "ipython3",
   "version": "3.8.8"
  }
 },
 "nbformat": 4,
 "nbformat_minor": 5
}
